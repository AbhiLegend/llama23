{
 "cells": [
  {
   "cell_type": "code",
   "execution_count": 1,
   "id": "d57a7afd-3552-4b93-b760-7a0bb7add9b4",
   "metadata": {},
   "outputs": [
    {
     "name": "stdout",
     "output_type": "stream",
     "text": [
      "Defaulting to user installation because normal site-packages is not writeable\n",
      "Requirement already satisfied: langchain in /home/u7c53cc1656fc6db0eef150c84e8803e/.local/lib/python3.9/site-packages (0.0.338)\n",
      "Requirement already satisfied: PyYAML>=5.3 in /opt/intel/oneapi/intelpython/python3.9/lib/python3.9/site-packages (from langchain) (6.0)\n",
      "Requirement already satisfied: SQLAlchemy<3,>=1.4 in /home/u7c53cc1656fc6db0eef150c84e8803e/.local/lib/python3.9/site-packages (from langchain) (2.0.23)\n",
      "Requirement already satisfied: aiohttp<4.0.0,>=3.8.3 in /home/u7c53cc1656fc6db0eef150c84e8803e/.local/lib/python3.9/site-packages (from langchain) (3.8.6)\n",
      "Requirement already satisfied: anyio<4.0 in /home/u7c53cc1656fc6db0eef150c84e8803e/.local/lib/python3.9/site-packages (from langchain) (3.7.1)\n",
      "Requirement already satisfied: async-timeout<5.0.0,>=4.0.0 in /home/u7c53cc1656fc6db0eef150c84e8803e/.local/lib/python3.9/site-packages (from langchain) (4.0.3)\n",
      "Requirement already satisfied: dataclasses-json<0.7,>=0.5.7 in /home/u7c53cc1656fc6db0eef150c84e8803e/.local/lib/python3.9/site-packages (from langchain) (0.6.1)\n",
      "Requirement already satisfied: jsonpatch<2.0,>=1.33 in /home/u7c53cc1656fc6db0eef150c84e8803e/.local/lib/python3.9/site-packages (from langchain) (1.33)\n",
      "Requirement already satisfied: langsmith<0.1.0,>=0.0.63 in /home/u7c53cc1656fc6db0eef150c84e8803e/.local/lib/python3.9/site-packages (from langchain) (0.0.65)\n",
      "Requirement already satisfied: numpy<2,>=1 in /opt/intel/oneapi/intelpython/python3.9/lib/python3.9/site-packages (from langchain) (1.24.3)\n",
      "Requirement already satisfied: pydantic<3,>=1 in /home/u7c53cc1656fc6db0eef150c84e8803e/.local/lib/python3.9/site-packages (from langchain) (1.10.13)\n",
      "Requirement already satisfied: requests<3,>=2 in /opt/intel/oneapi/intelpython/python3.9/lib/python3.9/site-packages (from langchain) (2.31.0)\n",
      "Requirement already satisfied: tenacity<9.0.0,>=8.1.0 in /home/u7c53cc1656fc6db0eef150c84e8803e/.local/lib/python3.9/site-packages (from langchain) (8.2.3)\n",
      "Requirement already satisfied: attrs>=17.3.0 in /home/u7c53cc1656fc6db0eef150c84e8803e/.local/lib/python3.9/site-packages (from aiohttp<4.0.0,>=3.8.3->langchain) (23.1.0)\n",
      "Requirement already satisfied: charset-normalizer<4.0,>=2.0 in /opt/intel/oneapi/intelpython/python3.9/lib/python3.9/site-packages (from aiohttp<4.0.0,>=3.8.3->langchain) (3.1.0)\n",
      "Requirement already satisfied: multidict<7.0,>=4.5 in /home/u7c53cc1656fc6db0eef150c84e8803e/.local/lib/python3.9/site-packages (from aiohttp<4.0.0,>=3.8.3->langchain) (6.0.4)\n",
      "Requirement already satisfied: yarl<2.0,>=1.0 in /home/u7c53cc1656fc6db0eef150c84e8803e/.local/lib/python3.9/site-packages (from aiohttp<4.0.0,>=3.8.3->langchain) (1.9.2)\n",
      "Requirement already satisfied: frozenlist>=1.1.1 in /home/u7c53cc1656fc6db0eef150c84e8803e/.local/lib/python3.9/site-packages (from aiohttp<4.0.0,>=3.8.3->langchain) (1.4.0)\n",
      "Requirement already satisfied: aiosignal>=1.1.2 in /home/u7c53cc1656fc6db0eef150c84e8803e/.local/lib/python3.9/site-packages (from aiohttp<4.0.0,>=3.8.3->langchain) (1.3.1)\n",
      "Requirement already satisfied: idna>=2.8 in /opt/intel/oneapi/intelpython/python3.9/lib/python3.9/site-packages (from anyio<4.0->langchain) (3.4)\n",
      "Requirement already satisfied: sniffio>=1.1 in /home/u7c53cc1656fc6db0eef150c84e8803e/.local/lib/python3.9/site-packages (from anyio<4.0->langchain) (1.3.0)\n",
      "Requirement already satisfied: exceptiongroup in /opt/intel/oneapi/intelpython/python3.9/lib/python3.9/site-packages (from anyio<4.0->langchain) (1.0.4)\n",
      "Requirement already satisfied: marshmallow<4.0.0,>=3.18.0 in /home/u7c53cc1656fc6db0eef150c84e8803e/.local/lib/python3.9/site-packages (from dataclasses-json<0.7,>=0.5.7->langchain) (3.20.1)\n",
      "Requirement already satisfied: typing-inspect<1,>=0.4.0 in /home/u7c53cc1656fc6db0eef150c84e8803e/.local/lib/python3.9/site-packages (from dataclasses-json<0.7,>=0.5.7->langchain) (0.9.0)\n",
      "Requirement already satisfied: jsonpointer>=1.9 in /home/u7c53cc1656fc6db0eef150c84e8803e/.local/lib/python3.9/site-packages (from jsonpatch<2.0,>=1.33->langchain) (2.4)\n",
      "Requirement already satisfied: typing-extensions>=4.2.0 in /home/u7c53cc1656fc6db0eef150c84e8803e/.local/lib/python3.9/site-packages (from pydantic<3,>=1->langchain) (4.8.0)\n",
      "Requirement already satisfied: urllib3<3,>=1.21.1 in /opt/intel/oneapi/intelpython/python3.9/lib/python3.9/site-packages (from requests<3,>=2->langchain) (2.0.3)\n",
      "Requirement already satisfied: certifi>=2017.4.17 in /opt/intel/oneapi/intelpython/python3.9/lib/python3.9/site-packages (from requests<3,>=2->langchain) (2023.7.22)\n",
      "Requirement already satisfied: greenlet!=0.4.17 in /home/u7c53cc1656fc6db0eef150c84e8803e/.local/lib/python3.9/site-packages (from SQLAlchemy<3,>=1.4->langchain) (3.0.1)\n",
      "Requirement already satisfied: packaging>=17.0 in /opt/intel/oneapi/intelpython/python3.9/lib/python3.9/site-packages (from marshmallow<4.0.0,>=3.18.0->dataclasses-json<0.7,>=0.5.7->langchain) (23.1)\n",
      "Requirement already satisfied: mypy-extensions>=0.3.0 in /home/u7c53cc1656fc6db0eef150c84e8803e/.local/lib/python3.9/site-packages (from typing-inspect<1,>=0.4.0->dataclasses-json<0.7,>=0.5.7->langchain) (1.0.0)\n",
      "Note: you may need to restart the kernel to use updated packages.\n"
     ]
    }
   ],
   "source": [
    "pip install langchain"
   ]
  },
  {
   "cell_type": "code",
   "execution_count": 2,
   "id": "1b599913-34e8-4bed-8c9e-7684ae629c40",
   "metadata": {},
   "outputs": [
    {
     "name": "stdout",
     "output_type": "stream",
     "text": [
      "Defaulting to user installation because normal site-packages is not writeable\n",
      "Requirement already satisfied: ctransformers in /home/u7c53cc1656fc6db0eef150c84e8803e/.local/lib/python3.9/site-packages (0.2.27)\n",
      "Requirement already satisfied: huggingface-hub in /home/u7c53cc1656fc6db0eef150c84e8803e/.local/lib/python3.9/site-packages (from ctransformers) (0.19.4)\n",
      "Requirement already satisfied: py-cpuinfo<10.0.0,>=9.0.0 in /home/u7c53cc1656fc6db0eef150c84e8803e/.local/lib/python3.9/site-packages (from ctransformers) (9.0.0)\n",
      "Requirement already satisfied: filelock in /home/u7c53cc1656fc6db0eef150c84e8803e/.local/lib/python3.9/site-packages (from huggingface-hub->ctransformers) (3.13.1)\n",
      "Requirement already satisfied: fsspec>=2023.5.0 in /home/u7c53cc1656fc6db0eef150c84e8803e/.local/lib/python3.9/site-packages (from huggingface-hub->ctransformers) (2023.10.0)\n",
      "Requirement already satisfied: requests in /opt/intel/oneapi/intelpython/python3.9/lib/python3.9/site-packages (from huggingface-hub->ctransformers) (2.31.0)\n",
      "Requirement already satisfied: tqdm>=4.42.1 in /home/u7c53cc1656fc6db0eef150c84e8803e/.local/lib/python3.9/site-packages (from huggingface-hub->ctransformers) (4.66.1)\n",
      "Requirement already satisfied: pyyaml>=5.1 in /opt/intel/oneapi/intelpython/python3.9/lib/python3.9/site-packages (from huggingface-hub->ctransformers) (6.0)\n",
      "Requirement already satisfied: typing-extensions>=3.7.4.3 in /home/u7c53cc1656fc6db0eef150c84e8803e/.local/lib/python3.9/site-packages (from huggingface-hub->ctransformers) (4.8.0)\n",
      "Requirement already satisfied: packaging>=20.9 in /opt/intel/oneapi/intelpython/python3.9/lib/python3.9/site-packages (from huggingface-hub->ctransformers) (23.1)\n",
      "Requirement already satisfied: charset-normalizer<4,>=2 in /opt/intel/oneapi/intelpython/python3.9/lib/python3.9/site-packages (from requests->huggingface-hub->ctransformers) (3.1.0)\n",
      "Requirement already satisfied: idna<4,>=2.5 in /opt/intel/oneapi/intelpython/python3.9/lib/python3.9/site-packages (from requests->huggingface-hub->ctransformers) (3.4)\n",
      "Requirement already satisfied: urllib3<3,>=1.21.1 in /opt/intel/oneapi/intelpython/python3.9/lib/python3.9/site-packages (from requests->huggingface-hub->ctransformers) (2.0.3)\n",
      "Requirement already satisfied: certifi>=2017.4.17 in /opt/intel/oneapi/intelpython/python3.9/lib/python3.9/site-packages (from requests->huggingface-hub->ctransformers) (2023.7.22)\n",
      "Note: you may need to restart the kernel to use updated packages.\n"
     ]
    }
   ],
   "source": [
    "pip install ctransformers"
   ]
  },
  {
   "cell_type": "code",
   "execution_count": 3,
   "id": "0846f325-ea54-4efe-88b2-83b5d02f22e5",
   "metadata": {},
   "outputs": [
    {
     "name": "stdout",
     "output_type": "stream",
     "text": [
      "Defaulting to user installation because normal site-packages is not writeable\n",
      "Collecting sentence-transformers\n",
      "  Downloading sentence-transformers-2.2.2.tar.gz (85 kB)\n",
      "\u001b[2K     \u001b[90m━━━━━━━━━━━━━━━━━━━━━━━━━━━━━━━━━━━━━━━━\u001b[0m \u001b[32m86.0/86.0 kB\u001b[0m \u001b[31m3.6 MB/s\u001b[0m eta \u001b[36m0:00:00\u001b[0m\n",
      "\u001b[?25h  Preparing metadata (setup.py) ... \u001b[?25ldone\n",
      "\u001b[?25hRequirement already satisfied: transformers<5.0.0,>=4.6.0 in /home/u7c53cc1656fc6db0eef150c84e8803e/.local/lib/python3.9/site-packages (from sentence-transformers) (4.35.2)\n",
      "Requirement already satisfied: tqdm in /home/u7c53cc1656fc6db0eef150c84e8803e/.local/lib/python3.9/site-packages (from sentence-transformers) (4.66.1)\n",
      "Collecting torch>=1.6.0 (from sentence-transformers)\n",
      "  Using cached torch-2.1.1-cp39-cp39-manylinux1_x86_64.whl (670.2 MB)\n",
      "Collecting torchvision (from sentence-transformers)\n",
      "  Downloading torchvision-0.16.1-cp39-cp39-manylinux1_x86_64.whl (6.8 MB)\n",
      "\u001b[2K     \u001b[90m━━━━━━━━━━━━━━━━━━━━━━━━━━━━━━━━━━━━━━━━\u001b[0m \u001b[32m6.8/6.8 MB\u001b[0m \u001b[31m58.8 MB/s\u001b[0m eta \u001b[36m0:00:00\u001b[0m:00:01\u001b[0m00:01\u001b[0m\n",
      "\u001b[?25hRequirement already satisfied: numpy in /opt/intel/oneapi/intelpython/python3.9/lib/python3.9/site-packages (from sentence-transformers) (1.24.3)\n",
      "Requirement already satisfied: scikit-learn in /opt/intel/oneapi/intelpython/python3.9/lib/python3.9/site-packages (from sentence-transformers) (1.2.2)\n",
      "Requirement already satisfied: scipy in /opt/intel/oneapi/intelpython/python3.9/lib/python3.9/site-packages (from sentence-transformers) (1.10.1)\n",
      "Requirement already satisfied: nltk in /home/u7c53cc1656fc6db0eef150c84e8803e/.local/lib/python3.9/site-packages (from sentence-transformers) (3.8.1)\n",
      "Collecting sentencepiece (from sentence-transformers)\n",
      "  Downloading sentencepiece-0.1.99-cp39-cp39-manylinux_2_17_x86_64.manylinux2014_x86_64.whl (1.3 MB)\n",
      "\u001b[2K     \u001b[90m━━━━━━━━━━━━━━━━━━━━━━━━━━━━━━━━━━━━━━━━\u001b[0m \u001b[32m1.3/1.3 MB\u001b[0m \u001b[31m39.6 MB/s\u001b[0m eta \u001b[36m0:00:00\u001b[0m\n",
      "\u001b[?25hRequirement already satisfied: huggingface-hub>=0.4.0 in /home/u7c53cc1656fc6db0eef150c84e8803e/.local/lib/python3.9/site-packages (from sentence-transformers) (0.19.4)\n",
      "Requirement already satisfied: filelock in /home/u7c53cc1656fc6db0eef150c84e8803e/.local/lib/python3.9/site-packages (from huggingface-hub>=0.4.0->sentence-transformers) (3.13.1)\n",
      "Requirement already satisfied: fsspec>=2023.5.0 in /home/u7c53cc1656fc6db0eef150c84e8803e/.local/lib/python3.9/site-packages (from huggingface-hub>=0.4.0->sentence-transformers) (2023.10.0)\n",
      "Requirement already satisfied: requests in /opt/intel/oneapi/intelpython/python3.9/lib/python3.9/site-packages (from huggingface-hub>=0.4.0->sentence-transformers) (2.31.0)\n",
      "Requirement already satisfied: pyyaml>=5.1 in /opt/intel/oneapi/intelpython/python3.9/lib/python3.9/site-packages (from huggingface-hub>=0.4.0->sentence-transformers) (6.0)\n",
      "Requirement already satisfied: typing-extensions>=3.7.4.3 in /home/u7c53cc1656fc6db0eef150c84e8803e/.local/lib/python3.9/site-packages (from huggingface-hub>=0.4.0->sentence-transformers) (4.8.0)\n",
      "Requirement already satisfied: packaging>=20.9 in /opt/intel/oneapi/intelpython/python3.9/lib/python3.9/site-packages (from huggingface-hub>=0.4.0->sentence-transformers) (23.1)\n",
      "Requirement already satisfied: sympy in /home/u7c53cc1656fc6db0eef150c84e8803e/.local/lib/python3.9/site-packages (from torch>=1.6.0->sentence-transformers) (1.12)\n",
      "Requirement already satisfied: networkx in /home/u7c53cc1656fc6db0eef150c84e8803e/.local/lib/python3.9/site-packages (from torch>=1.6.0->sentence-transformers) (3.2.1)\n",
      "Collecting jinja2 (from torch>=1.6.0->sentence-transformers)\n",
      "  Using cached Jinja2-3.1.2-py3-none-any.whl (133 kB)\n",
      "Collecting nvidia-cuda-nvrtc-cu12==12.1.105 (from torch>=1.6.0->sentence-transformers)\n",
      "  Using cached nvidia_cuda_nvrtc_cu12-12.1.105-py3-none-manylinux1_x86_64.whl (23.7 MB)\n",
      "Collecting nvidia-cuda-runtime-cu12==12.1.105 (from torch>=1.6.0->sentence-transformers)\n",
      "  Using cached nvidia_cuda_runtime_cu12-12.1.105-py3-none-manylinux1_x86_64.whl (823 kB)\n",
      "Collecting nvidia-cuda-cupti-cu12==12.1.105 (from torch>=1.6.0->sentence-transformers)\n",
      "  Using cached nvidia_cuda_cupti_cu12-12.1.105-py3-none-manylinux1_x86_64.whl (14.1 MB)\n",
      "Collecting nvidia-cudnn-cu12==8.9.2.26 (from torch>=1.6.0->sentence-transformers)\n",
      "  Using cached nvidia_cudnn_cu12-8.9.2.26-py3-none-manylinux1_x86_64.whl (731.7 MB)\n",
      "Collecting nvidia-cublas-cu12==12.1.3.1 (from torch>=1.6.0->sentence-transformers)\n",
      "  Using cached nvidia_cublas_cu12-12.1.3.1-py3-none-manylinux1_x86_64.whl (410.6 MB)\n",
      "Collecting nvidia-cufft-cu12==11.0.2.54 (from torch>=1.6.0->sentence-transformers)\n",
      "  Using cached nvidia_cufft_cu12-11.0.2.54-py3-none-manylinux1_x86_64.whl (121.6 MB)\n",
      "Collecting nvidia-curand-cu12==10.3.2.106 (from torch>=1.6.0->sentence-transformers)\n",
      "  Using cached nvidia_curand_cu12-10.3.2.106-py3-none-manylinux1_x86_64.whl (56.5 MB)\n",
      "Collecting nvidia-cusolver-cu12==11.4.5.107 (from torch>=1.6.0->sentence-transformers)\n",
      "  Using cached nvidia_cusolver_cu12-11.4.5.107-py3-none-manylinux1_x86_64.whl (124.2 MB)\n",
      "Collecting nvidia-cusparse-cu12==12.1.0.106 (from torch>=1.6.0->sentence-transformers)\n",
      "  Using cached nvidia_cusparse_cu12-12.1.0.106-py3-none-manylinux1_x86_64.whl (196.0 MB)\n",
      "Collecting nvidia-nccl-cu12==2.18.1 (from torch>=1.6.0->sentence-transformers)\n",
      "  Using cached nvidia_nccl_cu12-2.18.1-py3-none-manylinux1_x86_64.whl (209.8 MB)\n",
      "Collecting nvidia-nvtx-cu12==12.1.105 (from torch>=1.6.0->sentence-transformers)\n",
      "  Using cached nvidia_nvtx_cu12-12.1.105-py3-none-manylinux1_x86_64.whl (99 kB)\n",
      "Requirement already satisfied: triton==2.1.0 in /home/u7c53cc1656fc6db0eef150c84e8803e/.local/lib/python3.9/site-packages (from torch>=1.6.0->sentence-transformers) (2.1.0)\n",
      "Collecting nvidia-nvjitlink-cu12 (from nvidia-cusolver-cu12==11.4.5.107->torch>=1.6.0->sentence-transformers)\n",
      "  Using cached nvidia_nvjitlink_cu12-12.3.101-py3-none-manylinux1_x86_64.whl (20.5 MB)\n",
      "Requirement already satisfied: regex!=2019.12.17 in /home/u7c53cc1656fc6db0eef150c84e8803e/.local/lib/python3.9/site-packages (from transformers<5.0.0,>=4.6.0->sentence-transformers) (2023.10.3)\n",
      "Requirement already satisfied: tokenizers<0.19,>=0.14 in /home/u7c53cc1656fc6db0eef150c84e8803e/.local/lib/python3.9/site-packages (from transformers<5.0.0,>=4.6.0->sentence-transformers) (0.15.0)\n",
      "Requirement already satisfied: safetensors>=0.3.1 in /home/u7c53cc1656fc6db0eef150c84e8803e/.local/lib/python3.9/site-packages (from transformers<5.0.0,>=4.6.0->sentence-transformers) (0.4.0)\n",
      "Requirement already satisfied: click in /home/u7c53cc1656fc6db0eef150c84e8803e/.local/lib/python3.9/site-packages (from nltk->sentence-transformers) (8.1.7)\n",
      "Requirement already satisfied: joblib in /opt/intel/oneapi/intelpython/python3.9/lib/python3.9/site-packages (from nltk->sentence-transformers) (1.2.0)\n",
      "Requirement already satisfied: threadpoolctl>=2.0.0 in /opt/intel/oneapi/intelpython/python3.9/lib/python3.9/site-packages (from scikit-learn->sentence-transformers) (3.1.0)\n",
      "Requirement already satisfied: pillow!=8.3.*,>=5.3.0 in /opt/intel/oneapi/intelpython/python3.9/lib/python3.9/site-packages (from torchvision->sentence-transformers) (10.0.0)\n",
      "Collecting MarkupSafe>=2.0 (from jinja2->torch>=1.6.0->sentence-transformers)\n",
      "  Using cached MarkupSafe-2.1.3-cp39-cp39-manylinux_2_17_x86_64.manylinux2014_x86_64.whl (25 kB)\n",
      "Requirement already satisfied: charset-normalizer<4,>=2 in /opt/intel/oneapi/intelpython/python3.9/lib/python3.9/site-packages (from requests->huggingface-hub>=0.4.0->sentence-transformers) (3.1.0)\n",
      "Requirement already satisfied: idna<4,>=2.5 in /opt/intel/oneapi/intelpython/python3.9/lib/python3.9/site-packages (from requests->huggingface-hub>=0.4.0->sentence-transformers) (3.4)\n",
      "Requirement already satisfied: urllib3<3,>=1.21.1 in /opt/intel/oneapi/intelpython/python3.9/lib/python3.9/site-packages (from requests->huggingface-hub>=0.4.0->sentence-transformers) (2.0.3)\n",
      "Requirement already satisfied: certifi>=2017.4.17 in /opt/intel/oneapi/intelpython/python3.9/lib/python3.9/site-packages (from requests->huggingface-hub>=0.4.0->sentence-transformers) (2023.7.22)\n",
      "Requirement already satisfied: mpmath>=0.19 in /home/u7c53cc1656fc6db0eef150c84e8803e/.local/lib/python3.9/site-packages (from sympy->torch>=1.6.0->sentence-transformers) (1.3.0)\n",
      "Building wheels for collected packages: sentence-transformers\n",
      "  Building wheel for sentence-transformers (setup.py) ... \u001b[?25ldone\n",
      "\u001b[?25h  Created wheel for sentence-transformers: filename=sentence_transformers-2.2.2-py3-none-any.whl size=125926 sha256=f0baa056525a8c4b3ef21dbe6558c97b3a935d2c2a327b11cad52efd45d4c39a\n",
      "  Stored in directory: /home/u7c53cc1656fc6db0eef150c84e8803e/.cache/pip/wheels/71/67/06/162a3760c40d74dd40bc855d527008d26341c2b0ecf3e8e11f\n",
      "Successfully built sentence-transformers\n",
      "Installing collected packages: sentencepiece, nvidia-nvtx-cu12, nvidia-nvjitlink-cu12, nvidia-nccl-cu12, nvidia-curand-cu12, nvidia-cufft-cu12, nvidia-cuda-runtime-cu12, nvidia-cuda-nvrtc-cu12, nvidia-cuda-cupti-cu12, nvidia-cublas-cu12, MarkupSafe, nvidia-cusparse-cu12, nvidia-cudnn-cu12, jinja2, nvidia-cusolver-cu12, torch, torchvision, sentence-transformers\n",
      "\u001b[33m  WARNING: The scripts convert-caffe2-to-onnx, convert-onnx-to-caffe2 and torchrun are installed in '/home/u7c53cc1656fc6db0eef150c84e8803e/.local/bin' which is not on PATH.\n",
      "  Consider adding this directory to PATH or, if you prefer to suppress this warning, use --no-warn-script-location.\u001b[0m\u001b[33m\n",
      "\u001b[0mSuccessfully installed MarkupSafe-2.1.3 jinja2-3.1.2 nvidia-cublas-cu12-12.1.3.1 nvidia-cuda-cupti-cu12-12.1.105 nvidia-cuda-nvrtc-cu12-12.1.105 nvidia-cuda-runtime-cu12-12.1.105 nvidia-cudnn-cu12-8.9.2.26 nvidia-cufft-cu12-11.0.2.54 nvidia-curand-cu12-10.3.2.106 nvidia-cusolver-cu12-11.4.5.107 nvidia-cusparse-cu12-12.1.0.106 nvidia-nccl-cu12-2.18.1 nvidia-nvjitlink-cu12-12.3.101 nvidia-nvtx-cu12-12.1.105 sentence-transformers-2.2.2 sentencepiece-0.1.99 torch-2.1.1 torchvision-0.16.1\n",
      "Note: you may need to restart the kernel to use updated packages.\n"
     ]
    }
   ],
   "source": [
    "pip install sentence-transformers"
   ]
  },
  {
   "cell_type": "code",
   "execution_count": 5,
   "id": "cc0431cf-b5b0-4897-bff9-899b81814e98",
   "metadata": {},
   "outputs": [
    {
     "name": "stdout",
     "output_type": "stream",
     "text": [
      "Defaulting to user installation because normal site-packages is not writeable\n",
      "Requirement already satisfied: faiss-cpu in /home/u7c53cc1656fc6db0eef150c84e8803e/.local/lib/python3.9/site-packages (1.7.4)\n",
      "Note: you may need to restart the kernel to use updated packages.\n"
     ]
    }
   ],
   "source": [
    "pip install faiss-cpu\n"
   ]
  },
  {
   "cell_type": "code",
   "execution_count": 1,
   "id": "4b70e879-55ad-4cf1-be6f-45156965f5cc",
   "metadata": {},
   "outputs": [],
   "source": [
    "from langchain.document_loaders.csv_loader import CSVLoader\n",
    "from langchain.text_splitter import RecursiveCharacterTextSplitter\n",
    "from langchain.embeddings import HuggingFaceEmbeddings\n",
    "from langchain.vectorstores import FAISS\n",
    "from langchain.llms import CTransformers\n",
    "from langchain.memory import ConversationBufferMemory\n",
    "from langchain.chains import ConversationalRetrievalChain\n",
    "import sys"
   ]
  },
  {
   "cell_type": "code",
   "execution_count": 2,
   "id": "ab769cb1-9d76-4d49-b834-bab2690f1143",
   "metadata": {},
   "outputs": [
    {
     "name": "stdout",
     "output_type": "stream",
     "text": [
      "[Document(page_content='Overall rank: 1\\nCountry or region: Finland\\nScore: 7.769\\nGDP per capita: 1.340\\nSocial support: 1.587\\nHealthy life expectancy: 0.986\\nFreedom to make life choices: 0.596\\nGenerosity: 0.153\\nPerceptions of corruption: 0.393', metadata={'source': 'data/2019.csv', 'row': 0}), Document(page_content='Overall rank: 2\\nCountry or region: Denmark\\nScore: 7.600\\nGDP per capita: 1.383\\nSocial support: 1.573\\nHealthy life expectancy: 0.996\\nFreedom to make life choices: 0.592\\nGenerosity: 0.252\\nPerceptions of corruption: 0.410', metadata={'source': 'data/2019.csv', 'row': 1}), Document(page_content='Overall rank: 3\\nCountry or region: Norway\\nScore: 7.554\\nGDP per capita: 1.488\\nSocial support: 1.582\\nHealthy life expectancy: 1.028\\nFreedom to make life choices: 0.603\\nGenerosity: 0.271\\nPerceptions of corruption: 0.341', metadata={'source': 'data/2019.csv', 'row': 2}), Document(page_content='Overall rank: 4\\nCountry or region: Iceland\\nScore: 7.494\\nGDP per capita: 1.380\\nSocial support: 1.624\\nHealthy life expectancy: 1.026\\nFreedom to make life choices: 0.591\\nGenerosity: 0.354\\nPerceptions of corruption: 0.118', metadata={'source': 'data/2019.csv', 'row': 3}), Document(page_content='Overall rank: 5\\nCountry or region: Netherlands\\nScore: 7.488\\nGDP per capita: 1.396\\nSocial support: 1.522\\nHealthy life expectancy: 0.999\\nFreedom to make life choices: 0.557\\nGenerosity: 0.322\\nPerceptions of corruption: 0.298', metadata={'source': 'data/2019.csv', 'row': 4}), Document(page_content='Overall rank: 6\\nCountry or region: Switzerland\\nScore: 7.480\\nGDP per capita: 1.452\\nSocial support: 1.526\\nHealthy life expectancy: 1.052\\nFreedom to make life choices: 0.572\\nGenerosity: 0.263\\nPerceptions of corruption: 0.343', metadata={'source': 'data/2019.csv', 'row': 5}), Document(page_content='Overall rank: 7\\nCountry or region: Sweden\\nScore: 7.343\\nGDP per capita: 1.387\\nSocial support: 1.487\\nHealthy life expectancy: 1.009\\nFreedom to make life choices: 0.574\\nGenerosity: 0.267\\nPerceptions of corruption: 0.373', metadata={'source': 'data/2019.csv', 'row': 6}), Document(page_content='Overall rank: 8\\nCountry or region: New Zealand\\nScore: 7.307\\nGDP per capita: 1.303\\nSocial support: 1.557\\nHealthy life expectancy: 1.026\\nFreedom to make life choices: 0.585\\nGenerosity: 0.330\\nPerceptions of corruption: 0.380', metadata={'source': 'data/2019.csv', 'row': 7}), Document(page_content='Overall rank: 9\\nCountry or region: Canada\\nScore: 7.278\\nGDP per capita: 1.365\\nSocial support: 1.505\\nHealthy life expectancy: 1.039\\nFreedom to make life choices: 0.584\\nGenerosity: 0.285\\nPerceptions of corruption: 0.308', metadata={'source': 'data/2019.csv', 'row': 8}), Document(page_content='Overall rank: 10\\nCountry or region: Austria\\nScore: 7.246\\nGDP per capita: 1.376\\nSocial support: 1.475\\nHealthy life expectancy: 1.016\\nFreedom to make life choices: 0.532\\nGenerosity: 0.244\\nPerceptions of corruption: 0.226', metadata={'source': 'data/2019.csv', 'row': 9}), Document(page_content='Overall rank: 11\\nCountry or region: Australia\\nScore: 7.228\\nGDP per capita: 1.372\\nSocial support: 1.548\\nHealthy life expectancy: 1.036\\nFreedom to make life choices: 0.557\\nGenerosity: 0.332\\nPerceptions of corruption: 0.290', metadata={'source': 'data/2019.csv', 'row': 10}), Document(page_content='Overall rank: 12\\nCountry or region: Costa Rica\\nScore: 7.167\\nGDP per capita: 1.034\\nSocial support: 1.441\\nHealthy life expectancy: 0.963\\nFreedom to make life choices: 0.558\\nGenerosity: 0.144\\nPerceptions of corruption: 0.093', metadata={'source': 'data/2019.csv', 'row': 11}), Document(page_content='Overall rank: 13\\nCountry or region: Israel\\nScore: 7.139\\nGDP per capita: 1.276\\nSocial support: 1.455\\nHealthy life expectancy: 1.029\\nFreedom to make life choices: 0.371\\nGenerosity: 0.261\\nPerceptions of corruption: 0.082', metadata={'source': 'data/2019.csv', 'row': 12}), Document(page_content='Overall rank: 14\\nCountry or region: Luxembourg\\nScore: 7.090\\nGDP per capita: 1.609\\nSocial support: 1.479\\nHealthy life expectancy: 1.012\\nFreedom to make life choices: 0.526\\nGenerosity: 0.194\\nPerceptions of corruption: 0.316', metadata={'source': 'data/2019.csv', 'row': 13}), Document(page_content='Overall rank: 15\\nCountry or region: United Kingdom\\nScore: 7.054\\nGDP per capita: 1.333\\nSocial support: 1.538\\nHealthy life expectancy: 0.996\\nFreedom to make life choices: 0.450\\nGenerosity: 0.348\\nPerceptions of corruption: 0.278', metadata={'source': 'data/2019.csv', 'row': 14}), Document(page_content='Overall rank: 16\\nCountry or region: Ireland\\nScore: 7.021\\nGDP per capita: 1.499\\nSocial support: 1.553\\nHealthy life expectancy: 0.999\\nFreedom to make life choices: 0.516\\nGenerosity: 0.298\\nPerceptions of corruption: 0.310', metadata={'source': 'data/2019.csv', 'row': 15}), Document(page_content='Overall rank: 17\\nCountry or region: Germany\\nScore: 6.985\\nGDP per capita: 1.373\\nSocial support: 1.454\\nHealthy life expectancy: 0.987\\nFreedom to make life choices: 0.495\\nGenerosity: 0.261\\nPerceptions of corruption: 0.265', metadata={'source': 'data/2019.csv', 'row': 16}), Document(page_content='Overall rank: 18\\nCountry or region: Belgium\\nScore: 6.923\\nGDP per capita: 1.356\\nSocial support: 1.504\\nHealthy life expectancy: 0.986\\nFreedom to make life choices: 0.473\\nGenerosity: 0.160\\nPerceptions of corruption: 0.210', metadata={'source': 'data/2019.csv', 'row': 17}), Document(page_content='Overall rank: 19\\nCountry or region: United States\\nScore: 6.892\\nGDP per capita: 1.433\\nSocial support: 1.457\\nHealthy life expectancy: 0.874\\nFreedom to make life choices: 0.454\\nGenerosity: 0.280\\nPerceptions of corruption: 0.128', metadata={'source': 'data/2019.csv', 'row': 18}), Document(page_content='Overall rank: 20\\nCountry or region: Czech Republic\\nScore: 6.852\\nGDP per capita: 1.269\\nSocial support: 1.487\\nHealthy life expectancy: 0.920\\nFreedom to make life choices: 0.457\\nGenerosity: 0.046\\nPerceptions of corruption: 0.036', metadata={'source': 'data/2019.csv', 'row': 19}), Document(page_content='Overall rank: 21\\nCountry or region: United Arab Emirates\\nScore: 6.825\\nGDP per capita: 1.503\\nSocial support: 1.310\\nHealthy life expectancy: 0.825\\nFreedom to make life choices: 0.598\\nGenerosity: 0.262\\nPerceptions of corruption: 0.182', metadata={'source': 'data/2019.csv', 'row': 20}), Document(page_content='Overall rank: 22\\nCountry or region: Malta\\nScore: 6.726\\nGDP per capita: 1.300\\nSocial support: 1.520\\nHealthy life expectancy: 0.999\\nFreedom to make life choices: 0.564\\nGenerosity: 0.375\\nPerceptions of corruption: 0.151', metadata={'source': 'data/2019.csv', 'row': 21}), Document(page_content='Overall rank: 23\\nCountry or region: Mexico\\nScore: 6.595\\nGDP per capita: 1.070\\nSocial support: 1.323\\nHealthy life expectancy: 0.861\\nFreedom to make life choices: 0.433\\nGenerosity: 0.074\\nPerceptions of corruption: 0.073', metadata={'source': 'data/2019.csv', 'row': 22}), Document(page_content='Overall rank: 24\\nCountry or region: France\\nScore: 6.592\\nGDP per capita: 1.324\\nSocial support: 1.472\\nHealthy life expectancy: 1.045\\nFreedom to make life choices: 0.436\\nGenerosity: 0.111\\nPerceptions of corruption: 0.183', metadata={'source': 'data/2019.csv', 'row': 23}), Document(page_content='Overall rank: 25\\nCountry or region: Taiwan\\nScore: 6.446\\nGDP per capita: 1.368\\nSocial support: 1.430\\nHealthy life expectancy: 0.914\\nFreedom to make life choices: 0.351\\nGenerosity: 0.242\\nPerceptions of corruption: 0.097', metadata={'source': 'data/2019.csv', 'row': 24}), Document(page_content='Overall rank: 26\\nCountry or region: Chile\\nScore: 6.444\\nGDP per capita: 1.159\\nSocial support: 1.369\\nHealthy life expectancy: 0.920\\nFreedom to make life choices: 0.357\\nGenerosity: 0.187\\nPerceptions of corruption: 0.056', metadata={'source': 'data/2019.csv', 'row': 25}), Document(page_content='Overall rank: 27\\nCountry or region: Guatemala\\nScore: 6.436\\nGDP per capita: 0.800\\nSocial support: 1.269\\nHealthy life expectancy: 0.746\\nFreedom to make life choices: 0.535\\nGenerosity: 0.175\\nPerceptions of corruption: 0.078', metadata={'source': 'data/2019.csv', 'row': 26}), Document(page_content='Overall rank: 28\\nCountry or region: Saudi Arabia\\nScore: 6.375\\nGDP per capita: 1.403\\nSocial support: 1.357\\nHealthy life expectancy: 0.795\\nFreedom to make life choices: 0.439\\nGenerosity: 0.080\\nPerceptions of corruption: 0.132', metadata={'source': 'data/2019.csv', 'row': 27}), Document(page_content='Overall rank: 29\\nCountry or region: Qatar\\nScore: 6.374\\nGDP per capita: 1.684\\nSocial support: 1.313\\nHealthy life expectancy: 0.871\\nFreedom to make life choices: 0.555\\nGenerosity: 0.220\\nPerceptions of corruption: 0.167', metadata={'source': 'data/2019.csv', 'row': 28}), Document(page_content='Overall rank: 30\\nCountry or region: Spain\\nScore: 6.354\\nGDP per capita: 1.286\\nSocial support: 1.484\\nHealthy life expectancy: 1.062\\nFreedom to make life choices: 0.362\\nGenerosity: 0.153\\nPerceptions of corruption: 0.079', metadata={'source': 'data/2019.csv', 'row': 29}), Document(page_content='Overall rank: 31\\nCountry or region: Panama\\nScore: 6.321\\nGDP per capita: 1.149\\nSocial support: 1.442\\nHealthy life expectancy: 0.910\\nFreedom to make life choices: 0.516\\nGenerosity: 0.109\\nPerceptions of corruption: 0.054', metadata={'source': 'data/2019.csv', 'row': 30}), Document(page_content='Overall rank: 32\\nCountry or region: Brazil\\nScore: 6.300\\nGDP per capita: 1.004\\nSocial support: 1.439\\nHealthy life expectancy: 0.802\\nFreedom to make life choices: 0.390\\nGenerosity: 0.099\\nPerceptions of corruption: 0.086', metadata={'source': 'data/2019.csv', 'row': 31}), Document(page_content='Overall rank: 33\\nCountry or region: Uruguay\\nScore: 6.293\\nGDP per capita: 1.124\\nSocial support: 1.465\\nHealthy life expectancy: 0.891\\nFreedom to make life choices: 0.523\\nGenerosity: 0.127\\nPerceptions of corruption: 0.150', metadata={'source': 'data/2019.csv', 'row': 32}), Document(page_content='Overall rank: 34\\nCountry or region: Singapore\\nScore: 6.262\\nGDP per capita: 1.572\\nSocial support: 1.463\\nHealthy life expectancy: 1.141\\nFreedom to make life choices: 0.556\\nGenerosity: 0.271\\nPerceptions of corruption: 0.453', metadata={'source': 'data/2019.csv', 'row': 33}), Document(page_content='Overall rank: 35\\nCountry or region: El Salvador\\nScore: 6.253\\nGDP per capita: 0.794\\nSocial support: 1.242\\nHealthy life expectancy: 0.789\\nFreedom to make life choices: 0.430\\nGenerosity: 0.093\\nPerceptions of corruption: 0.074', metadata={'source': 'data/2019.csv', 'row': 34}), Document(page_content='Overall rank: 36\\nCountry or region: Italy\\nScore: 6.223\\nGDP per capita: 1.294\\nSocial support: 1.488\\nHealthy life expectancy: 1.039\\nFreedom to make life choices: 0.231\\nGenerosity: 0.158\\nPerceptions of corruption: 0.030', metadata={'source': 'data/2019.csv', 'row': 35}), Document(page_content='Overall rank: 37\\nCountry or region: Bahrain\\nScore: 6.199\\nGDP per capita: 1.362\\nSocial support: 1.368\\nHealthy life expectancy: 0.871\\nFreedom to make life choices: 0.536\\nGenerosity: 0.255\\nPerceptions of corruption: 0.110', metadata={'source': 'data/2019.csv', 'row': 36}), Document(page_content='Overall rank: 38\\nCountry or region: Slovakia\\nScore: 6.198\\nGDP per capita: 1.246\\nSocial support: 1.504\\nHealthy life expectancy: 0.881\\nFreedom to make life choices: 0.334\\nGenerosity: 0.121\\nPerceptions of corruption: 0.014', metadata={'source': 'data/2019.csv', 'row': 37}), Document(page_content='Overall rank: 39\\nCountry or region: Trinidad & Tobago\\nScore: 6.192\\nGDP per capita: 1.231\\nSocial support: 1.477\\nHealthy life expectancy: 0.713\\nFreedom to make life choices: 0.489\\nGenerosity: 0.185\\nPerceptions of corruption: 0.016', metadata={'source': 'data/2019.csv', 'row': 38}), Document(page_content='Overall rank: 40\\nCountry or region: Poland\\nScore: 6.182\\nGDP per capita: 1.206\\nSocial support: 1.438\\nHealthy life expectancy: 0.884\\nFreedom to make life choices: 0.483\\nGenerosity: 0.117\\nPerceptions of corruption: 0.050', metadata={'source': 'data/2019.csv', 'row': 39}), Document(page_content='Overall rank: 41\\nCountry or region: Uzbekistan\\nScore: 6.174\\nGDP per capita: 0.745\\nSocial support: 1.529\\nHealthy life expectancy: 0.756\\nFreedom to make life choices: 0.631\\nGenerosity: 0.322\\nPerceptions of corruption: 0.240', metadata={'source': 'data/2019.csv', 'row': 40}), Document(page_content='Overall rank: 42\\nCountry or region: Lithuania\\nScore: 6.149\\nGDP per capita: 1.238\\nSocial support: 1.515\\nHealthy life expectancy: 0.818\\nFreedom to make life choices: 0.291\\nGenerosity: 0.043\\nPerceptions of corruption: 0.042', metadata={'source': 'data/2019.csv', 'row': 41}), Document(page_content='Overall rank: 43\\nCountry or region: Colombia\\nScore: 6.125\\nGDP per capita: 0.985\\nSocial support: 1.410\\nHealthy life expectancy: 0.841\\nFreedom to make life choices: 0.470\\nGenerosity: 0.099\\nPerceptions of corruption: 0.034', metadata={'source': 'data/2019.csv', 'row': 42}), Document(page_content='Overall rank: 44\\nCountry or region: Slovenia\\nScore: 6.118\\nGDP per capita: 1.258\\nSocial support: 1.523\\nHealthy life expectancy: 0.953\\nFreedom to make life choices: 0.564\\nGenerosity: 0.144\\nPerceptions of corruption: 0.057', metadata={'source': 'data/2019.csv', 'row': 43}), Document(page_content='Overall rank: 45\\nCountry or region: Nicaragua\\nScore: 6.105\\nGDP per capita: 0.694\\nSocial support: 1.325\\nHealthy life expectancy: 0.835\\nFreedom to make life choices: 0.435\\nGenerosity: 0.200\\nPerceptions of corruption: 0.127', metadata={'source': 'data/2019.csv', 'row': 44}), Document(page_content='Overall rank: 46\\nCountry or region: Kosovo\\nScore: 6.100\\nGDP per capita: 0.882\\nSocial support: 1.232\\nHealthy life expectancy: 0.758\\nFreedom to make life choices: 0.489\\nGenerosity: 0.262\\nPerceptions of corruption: 0.006', metadata={'source': 'data/2019.csv', 'row': 45}), Document(page_content='Overall rank: 47\\nCountry or region: Argentina\\nScore: 6.086\\nGDP per capita: 1.092\\nSocial support: 1.432\\nHealthy life expectancy: 0.881\\nFreedom to make life choices: 0.471\\nGenerosity: 0.066\\nPerceptions of corruption: 0.050', metadata={'source': 'data/2019.csv', 'row': 46}), Document(page_content='Overall rank: 48\\nCountry or region: Romania\\nScore: 6.070\\nGDP per capita: 1.162\\nSocial support: 1.232\\nHealthy life expectancy: 0.825\\nFreedom to make life choices: 0.462\\nGenerosity: 0.083\\nPerceptions of corruption: 0.005', metadata={'source': 'data/2019.csv', 'row': 47}), Document(page_content='Overall rank: 49\\nCountry or region: Cyprus\\nScore: 6.046\\nGDP per capita: 1.263\\nSocial support: 1.223\\nHealthy life expectancy: 1.042\\nFreedom to make life choices: 0.406\\nGenerosity: 0.190\\nPerceptions of corruption: 0.041', metadata={'source': 'data/2019.csv', 'row': 48}), Document(page_content='Overall rank: 50\\nCountry or region: Ecuador\\nScore: 6.028\\nGDP per capita: 0.912\\nSocial support: 1.312\\nHealthy life expectancy: 0.868\\nFreedom to make life choices: 0.498\\nGenerosity: 0.126\\nPerceptions of corruption: 0.087', metadata={'source': 'data/2019.csv', 'row': 49}), Document(page_content='Overall rank: 51\\nCountry or region: Kuwait\\nScore: 6.021\\nGDP per capita: 1.500\\nSocial support: 1.319\\nHealthy life expectancy: 0.808\\nFreedom to make life choices: 0.493\\nGenerosity: 0.142\\nPerceptions of corruption: 0.097', metadata={'source': 'data/2019.csv', 'row': 50}), Document(page_content='Overall rank: 52\\nCountry or region: Thailand\\nScore: 6.008\\nGDP per capita: 1.050\\nSocial support: 1.409\\nHealthy life expectancy: 0.828\\nFreedom to make life choices: 0.557\\nGenerosity: 0.359\\nPerceptions of corruption: 0.028', metadata={'source': 'data/2019.csv', 'row': 51}), Document(page_content='Overall rank: 53\\nCountry or region: Latvia\\nScore: 5.940\\nGDP per capita: 1.187\\nSocial support: 1.465\\nHealthy life expectancy: 0.812\\nFreedom to make life choices: 0.264\\nGenerosity: 0.075\\nPerceptions of corruption: 0.064', metadata={'source': 'data/2019.csv', 'row': 52}), Document(page_content='Overall rank: 54\\nCountry or region: South Korea\\nScore: 5.895\\nGDP per capita: 1.301\\nSocial support: 1.219\\nHealthy life expectancy: 1.036\\nFreedom to make life choices: 0.159\\nGenerosity: 0.175\\nPerceptions of corruption: 0.056', metadata={'source': 'data/2019.csv', 'row': 53}), Document(page_content='Overall rank: 55\\nCountry or region: Estonia\\nScore: 5.893\\nGDP per capita: 1.237\\nSocial support: 1.528\\nHealthy life expectancy: 0.874\\nFreedom to make life choices: 0.495\\nGenerosity: 0.103\\nPerceptions of corruption: 0.161', metadata={'source': 'data/2019.csv', 'row': 54}), Document(page_content='Overall rank: 56\\nCountry or region: Jamaica\\nScore: 5.890\\nGDP per capita: 0.831\\nSocial support: 1.478\\nHealthy life expectancy: 0.831\\nFreedom to make life choices: 0.490\\nGenerosity: 0.107\\nPerceptions of corruption: 0.028', metadata={'source': 'data/2019.csv', 'row': 55}), Document(page_content='Overall rank: 57\\nCountry or region: Mauritius\\nScore: 5.888\\nGDP per capita: 1.120\\nSocial support: 1.402\\nHealthy life expectancy: 0.798\\nFreedom to make life choices: 0.498\\nGenerosity: 0.215\\nPerceptions of corruption: 0.060', metadata={'source': 'data/2019.csv', 'row': 56}), Document(page_content='Overall rank: 58\\nCountry or region: Japan\\nScore: 5.886\\nGDP per capita: 1.327\\nSocial support: 1.419\\nHealthy life expectancy: 1.088\\nFreedom to make life choices: 0.445\\nGenerosity: 0.069\\nPerceptions of corruption: 0.140', metadata={'source': 'data/2019.csv', 'row': 57}), Document(page_content='Overall rank: 59\\nCountry or region: Honduras\\nScore: 5.860\\nGDP per capita: 0.642\\nSocial support: 1.236\\nHealthy life expectancy: 0.828\\nFreedom to make life choices: 0.507\\nGenerosity: 0.246\\nPerceptions of corruption: 0.078', metadata={'source': 'data/2019.csv', 'row': 58}), Document(page_content='Overall rank: 60\\nCountry or region: Kazakhstan\\nScore: 5.809\\nGDP per capita: 1.173\\nSocial support: 1.508\\nHealthy life expectancy: 0.729\\nFreedom to make life choices: 0.410\\nGenerosity: 0.146\\nPerceptions of corruption: 0.096', metadata={'source': 'data/2019.csv', 'row': 59}), Document(page_content='Overall rank: 61\\nCountry or region: Bolivia\\nScore: 5.779\\nGDP per capita: 0.776\\nSocial support: 1.209\\nHealthy life expectancy: 0.706\\nFreedom to make life choices: 0.511\\nGenerosity: 0.137\\nPerceptions of corruption: 0.064', metadata={'source': 'data/2019.csv', 'row': 60}), Document(page_content='Overall rank: 62\\nCountry or region: Hungary\\nScore: 5.758\\nGDP per capita: 1.201\\nSocial support: 1.410\\nHealthy life expectancy: 0.828\\nFreedom to make life choices: 0.199\\nGenerosity: 0.081\\nPerceptions of corruption: 0.020', metadata={'source': 'data/2019.csv', 'row': 61}), Document(page_content='Overall rank: 63\\nCountry or region: Paraguay\\nScore: 5.743\\nGDP per capita: 0.855\\nSocial support: 1.475\\nHealthy life expectancy: 0.777\\nFreedom to make life choices: 0.514\\nGenerosity: 0.184\\nPerceptions of corruption: 0.080', metadata={'source': 'data/2019.csv', 'row': 62}), Document(page_content='Overall rank: 64\\nCountry or region: Northern Cyprus\\nScore: 5.718\\nGDP per capita: 1.263\\nSocial support: 1.252\\nHealthy life expectancy: 1.042\\nFreedom to make life choices: 0.417\\nGenerosity: 0.191\\nPerceptions of corruption: 0.162', metadata={'source': 'data/2019.csv', 'row': 63}), Document(page_content='Overall rank: 65\\nCountry or region: Peru\\nScore: 5.697\\nGDP per capita: 0.960\\nSocial support: 1.274\\nHealthy life expectancy: 0.854\\nFreedom to make life choices: 0.455\\nGenerosity: 0.083\\nPerceptions of corruption: 0.027', metadata={'source': 'data/2019.csv', 'row': 64}), Document(page_content='Overall rank: 66\\nCountry or region: Portugal\\nScore: 5.693\\nGDP per capita: 1.221\\nSocial support: 1.431\\nHealthy life expectancy: 0.999\\nFreedom to make life choices: 0.508\\nGenerosity: 0.047\\nPerceptions of corruption: 0.025', metadata={'source': 'data/2019.csv', 'row': 65}), Document(page_content='Overall rank: 67\\nCountry or region: Pakistan\\nScore: 5.653\\nGDP per capita: 0.677\\nSocial support: 0.886\\nHealthy life expectancy: 0.535\\nFreedom to make life choices: 0.313\\nGenerosity: 0.220\\nPerceptions of corruption: 0.098', metadata={'source': 'data/2019.csv', 'row': 66}), Document(page_content='Overall rank: 68\\nCountry or region: Russia\\nScore: 5.648\\nGDP per capita: 1.183\\nSocial support: 1.452\\nHealthy life expectancy: 0.726\\nFreedom to make life choices: 0.334\\nGenerosity: 0.082\\nPerceptions of corruption: 0.031', metadata={'source': 'data/2019.csv', 'row': 67}), Document(page_content='Overall rank: 69\\nCountry or region: Philippines\\nScore: 5.631\\nGDP per capita: 0.807\\nSocial support: 1.293\\nHealthy life expectancy: 0.657\\nFreedom to make life choices: 0.558\\nGenerosity: 0.117\\nPerceptions of corruption: 0.107', metadata={'source': 'data/2019.csv', 'row': 68}), Document(page_content='Overall rank: 70\\nCountry or region: Serbia\\nScore: 5.603\\nGDP per capita: 1.004\\nSocial support: 1.383\\nHealthy life expectancy: 0.854\\nFreedom to make life choices: 0.282\\nGenerosity: 0.137\\nPerceptions of corruption: 0.039', metadata={'source': 'data/2019.csv', 'row': 69}), Document(page_content='Overall rank: 71\\nCountry or region: Moldova\\nScore: 5.529\\nGDP per capita: 0.685\\nSocial support: 1.328\\nHealthy life expectancy: 0.739\\nFreedom to make life choices: 0.245\\nGenerosity: 0.181\\nPerceptions of corruption: 0.000', metadata={'source': 'data/2019.csv', 'row': 70}), Document(page_content='Overall rank: 72\\nCountry or region: Libya\\nScore: 5.525\\nGDP per capita: 1.044\\nSocial support: 1.303\\nHealthy life expectancy: 0.673\\nFreedom to make life choices: 0.416\\nGenerosity: 0.133\\nPerceptions of corruption: 0.152', metadata={'source': 'data/2019.csv', 'row': 71}), Document(page_content='Overall rank: 73\\nCountry or region: Montenegro\\nScore: 5.523\\nGDP per capita: 1.051\\nSocial support: 1.361\\nHealthy life expectancy: 0.871\\nFreedom to make life choices: 0.197\\nGenerosity: 0.142\\nPerceptions of corruption: 0.080', metadata={'source': 'data/2019.csv', 'row': 72}), Document(page_content='Overall rank: 74\\nCountry or region: Tajikistan\\nScore: 5.467\\nGDP per capita: 0.493\\nSocial support: 1.098\\nHealthy life expectancy: 0.718\\nFreedom to make life choices: 0.389\\nGenerosity: 0.230\\nPerceptions of corruption: 0.144', metadata={'source': 'data/2019.csv', 'row': 73}), Document(page_content='Overall rank: 75\\nCountry or region: Croatia\\nScore: 5.432\\nGDP per capita: 1.155\\nSocial support: 1.266\\nHealthy life expectancy: 0.914\\nFreedom to make life choices: 0.296\\nGenerosity: 0.119\\nPerceptions of corruption: 0.022', metadata={'source': 'data/2019.csv', 'row': 74}), Document(page_content='Overall rank: 76\\nCountry or region: Hong Kong\\nScore: 5.430\\nGDP per capita: 1.438\\nSocial support: 1.277\\nHealthy life expectancy: 1.122\\nFreedom to make life choices: 0.440\\nGenerosity: 0.258\\nPerceptions of corruption: 0.287', metadata={'source': 'data/2019.csv', 'row': 75}), Document(page_content='Overall rank: 77\\nCountry or region: Dominican Republic\\nScore: 5.425\\nGDP per capita: 1.015\\nSocial support: 1.401\\nHealthy life expectancy: 0.779\\nFreedom to make life choices: 0.497\\nGenerosity: 0.113\\nPerceptions of corruption: 0.101', metadata={'source': 'data/2019.csv', 'row': 76}), Document(page_content='Overall rank: 78\\nCountry or region: Bosnia and Herzegovina\\nScore: 5.386\\nGDP per capita: 0.945\\nSocial support: 1.212\\nHealthy life expectancy: 0.845\\nFreedom to make life choices: 0.212\\nGenerosity: 0.263\\nPerceptions of corruption: 0.006', metadata={'source': 'data/2019.csv', 'row': 77}), Document(page_content='Overall rank: 79\\nCountry or region: Turkey\\nScore: 5.373\\nGDP per capita: 1.183\\nSocial support: 1.360\\nHealthy life expectancy: 0.808\\nFreedom to make life choices: 0.195\\nGenerosity: 0.083\\nPerceptions of corruption: 0.106', metadata={'source': 'data/2019.csv', 'row': 78}), Document(page_content='Overall rank: 80\\nCountry or region: Malaysia\\nScore: 5.339\\nGDP per capita: 1.221\\nSocial support: 1.171\\nHealthy life expectancy: 0.828\\nFreedom to make life choices: 0.508\\nGenerosity: 0.260\\nPerceptions of corruption: 0.024', metadata={'source': 'data/2019.csv', 'row': 79}), Document(page_content='Overall rank: 81\\nCountry or region: Belarus\\nScore: 5.323\\nGDP per capita: 1.067\\nSocial support: 1.465\\nHealthy life expectancy: 0.789\\nFreedom to make life choices: 0.235\\nGenerosity: 0.094\\nPerceptions of corruption: 0.142', metadata={'source': 'data/2019.csv', 'row': 80}), Document(page_content='Overall rank: 82\\nCountry or region: Greece\\nScore: 5.287\\nGDP per capita: 1.181\\nSocial support: 1.156\\nHealthy life expectancy: 0.999\\nFreedom to make life choices: 0.067\\nGenerosity: 0.000\\nPerceptions of corruption: 0.034', metadata={'source': 'data/2019.csv', 'row': 81}), Document(page_content='Overall rank: 83\\nCountry or region: Mongolia\\nScore: 5.285\\nGDP per capita: 0.948\\nSocial support: 1.531\\nHealthy life expectancy: 0.667\\nFreedom to make life choices: 0.317\\nGenerosity: 0.235\\nPerceptions of corruption: 0.038', metadata={'source': 'data/2019.csv', 'row': 82}), Document(page_content='Overall rank: 84\\nCountry or region: North Macedonia\\nScore: 5.274\\nGDP per capita: 0.983\\nSocial support: 1.294\\nHealthy life expectancy: 0.838\\nFreedom to make life choices: 0.345\\nGenerosity: 0.185\\nPerceptions of corruption: 0.034', metadata={'source': 'data/2019.csv', 'row': 83}), Document(page_content='Overall rank: 85\\nCountry or region: Nigeria\\nScore: 5.265\\nGDP per capita: 0.696\\nSocial support: 1.111\\nHealthy life expectancy: 0.245\\nFreedom to make life choices: 0.426\\nGenerosity: 0.215\\nPerceptions of corruption: 0.041', metadata={'source': 'data/2019.csv', 'row': 84}), Document(page_content='Overall rank: 86\\nCountry or region: Kyrgyzstan\\nScore: 5.261\\nGDP per capita: 0.551\\nSocial support: 1.438\\nHealthy life expectancy: 0.723\\nFreedom to make life choices: 0.508\\nGenerosity: 0.300\\nPerceptions of corruption: 0.023', metadata={'source': 'data/2019.csv', 'row': 85}), Document(page_content='Overall rank: 87\\nCountry or region: Turkmenistan\\nScore: 5.247\\nGDP per capita: 1.052\\nSocial support: 1.538\\nHealthy life expectancy: 0.657\\nFreedom to make life choices: 0.394\\nGenerosity: 0.244\\nPerceptions of corruption: 0.028', metadata={'source': 'data/2019.csv', 'row': 86}), Document(page_content='Overall rank: 88\\nCountry or region: Algeria\\nScore: 5.211\\nGDP per capita: 1.002\\nSocial support: 1.160\\nHealthy life expectancy: 0.785\\nFreedom to make life choices: 0.086\\nGenerosity: 0.073\\nPerceptions of corruption: 0.114', metadata={'source': 'data/2019.csv', 'row': 87}), Document(page_content='Overall rank: 89\\nCountry or region: Morocco\\nScore: 5.208\\nGDP per capita: 0.801\\nSocial support: 0.782\\nHealthy life expectancy: 0.782\\nFreedom to make life choices: 0.418\\nGenerosity: 0.036\\nPerceptions of corruption: 0.076', metadata={'source': 'data/2019.csv', 'row': 88}), Document(page_content='Overall rank: 90\\nCountry or region: Azerbaijan\\nScore: 5.208\\nGDP per capita: 1.043\\nSocial support: 1.147\\nHealthy life expectancy: 0.769\\nFreedom to make life choices: 0.351\\nGenerosity: 0.035\\nPerceptions of corruption: 0.182', metadata={'source': 'data/2019.csv', 'row': 89}), Document(page_content='Overall rank: 91\\nCountry or region: Lebanon\\nScore: 5.197\\nGDP per capita: 0.987\\nSocial support: 1.224\\nHealthy life expectancy: 0.815\\nFreedom to make life choices: 0.216\\nGenerosity: 0.166\\nPerceptions of corruption: 0.027', metadata={'source': 'data/2019.csv', 'row': 90}), Document(page_content='Overall rank: 92\\nCountry or region: Indonesia\\nScore: 5.192\\nGDP per capita: 0.931\\nSocial support: 1.203\\nHealthy life expectancy: 0.660\\nFreedom to make life choices: 0.491\\nGenerosity: 0.498\\nPerceptions of corruption: 0.028', metadata={'source': 'data/2019.csv', 'row': 91}), Document(page_content='Overall rank: 93\\nCountry or region: China\\nScore: 5.191\\nGDP per capita: 1.029\\nSocial support: 1.125\\nHealthy life expectancy: 0.893\\nFreedom to make life choices: 0.521\\nGenerosity: 0.058\\nPerceptions of corruption: 0.100', metadata={'source': 'data/2019.csv', 'row': 92}), Document(page_content='Overall rank: 94\\nCountry or region: Vietnam\\nScore: 5.175\\nGDP per capita: 0.741\\nSocial support: 1.346\\nHealthy life expectancy: 0.851\\nFreedom to make life choices: 0.543\\nGenerosity: 0.147\\nPerceptions of corruption: 0.073', metadata={'source': 'data/2019.csv', 'row': 93}), Document(page_content='Overall rank: 95\\nCountry or region: Bhutan\\nScore: 5.082\\nGDP per capita: 0.813\\nSocial support: 1.321\\nHealthy life expectancy: 0.604\\nFreedom to make life choices: 0.457\\nGenerosity: 0.370\\nPerceptions of corruption: 0.167', metadata={'source': 'data/2019.csv', 'row': 94}), Document(page_content='Overall rank: 96\\nCountry or region: Cameroon\\nScore: 5.044\\nGDP per capita: 0.549\\nSocial support: 0.910\\nHealthy life expectancy: 0.331\\nFreedom to make life choices: 0.381\\nGenerosity: 0.187\\nPerceptions of corruption: 0.037', metadata={'source': 'data/2019.csv', 'row': 95}), Document(page_content='Overall rank: 97\\nCountry or region: Bulgaria\\nScore: 5.011\\nGDP per capita: 1.092\\nSocial support: 1.513\\nHealthy life expectancy: 0.815\\nFreedom to make life choices: 0.311\\nGenerosity: 0.081\\nPerceptions of corruption: 0.004', metadata={'source': 'data/2019.csv', 'row': 96}), Document(page_content='Overall rank: 98\\nCountry or region: Ghana\\nScore: 4.996\\nGDP per capita: 0.611\\nSocial support: 0.868\\nHealthy life expectancy: 0.486\\nFreedom to make life choices: 0.381\\nGenerosity: 0.245\\nPerceptions of corruption: 0.040', metadata={'source': 'data/2019.csv', 'row': 97}), Document(page_content='Overall rank: 99\\nCountry or region: Ivory Coast\\nScore: 4.944\\nGDP per capita: 0.569\\nSocial support: 0.808\\nHealthy life expectancy: 0.232\\nFreedom to make life choices: 0.352\\nGenerosity: 0.154\\nPerceptions of corruption: 0.090', metadata={'source': 'data/2019.csv', 'row': 98}), Document(page_content='Overall rank: 100\\nCountry or region: Nepal\\nScore: 4.913\\nGDP per capita: 0.446\\nSocial support: 1.226\\nHealthy life expectancy: 0.677\\nFreedom to make life choices: 0.439\\nGenerosity: 0.285\\nPerceptions of corruption: 0.089', metadata={'source': 'data/2019.csv', 'row': 99}), Document(page_content='Overall rank: 101\\nCountry or region: Jordan\\nScore: 4.906\\nGDP per capita: 0.837\\nSocial support: 1.225\\nHealthy life expectancy: 0.815\\nFreedom to make life choices: 0.383\\nGenerosity: 0.110\\nPerceptions of corruption: 0.130', metadata={'source': 'data/2019.csv', 'row': 100}), Document(page_content='Overall rank: 102\\nCountry or region: Benin\\nScore: 4.883\\nGDP per capita: 0.393\\nSocial support: 0.437\\nHealthy life expectancy: 0.397\\nFreedom to make life choices: 0.349\\nGenerosity: 0.175\\nPerceptions of corruption: 0.082', metadata={'source': 'data/2019.csv', 'row': 101}), Document(page_content='Overall rank: 103\\nCountry or region: Congo (Brazzaville)\\nScore: 4.812\\nGDP per capita: 0.673\\nSocial support: 0.799\\nHealthy life expectancy: 0.508\\nFreedom to make life choices: 0.372\\nGenerosity: 0.105\\nPerceptions of corruption: 0.093', metadata={'source': 'data/2019.csv', 'row': 102}), Document(page_content='Overall rank: 104\\nCountry or region: Gabon\\nScore: 4.799\\nGDP per capita: 1.057\\nSocial support: 1.183\\nHealthy life expectancy: 0.571\\nFreedom to make life choices: 0.295\\nGenerosity: 0.043\\nPerceptions of corruption: 0.055', metadata={'source': 'data/2019.csv', 'row': 103}), Document(page_content='Overall rank: 105\\nCountry or region: Laos\\nScore: 4.796\\nGDP per capita: 0.764\\nSocial support: 1.030\\nHealthy life expectancy: 0.551\\nFreedom to make life choices: 0.547\\nGenerosity: 0.266\\nPerceptions of corruption: 0.164', metadata={'source': 'data/2019.csv', 'row': 104}), Document(page_content='Overall rank: 106\\nCountry or region: South Africa\\nScore: 4.722\\nGDP per capita: 0.960\\nSocial support: 1.351\\nHealthy life expectancy: 0.469\\nFreedom to make life choices: 0.389\\nGenerosity: 0.130\\nPerceptions of corruption: 0.055', metadata={'source': 'data/2019.csv', 'row': 105}), Document(page_content='Overall rank: 107\\nCountry or region: Albania\\nScore: 4.719\\nGDP per capita: 0.947\\nSocial support: 0.848\\nHealthy life expectancy: 0.874\\nFreedom to make life choices: 0.383\\nGenerosity: 0.178\\nPerceptions of corruption: 0.027', metadata={'source': 'data/2019.csv', 'row': 106}), Document(page_content='Overall rank: 108\\nCountry or region: Venezuela\\nScore: 4.707\\nGDP per capita: 0.960\\nSocial support: 1.427\\nHealthy life expectancy: 0.805\\nFreedom to make life choices: 0.154\\nGenerosity: 0.064\\nPerceptions of corruption: 0.047', metadata={'source': 'data/2019.csv', 'row': 107}), Document(page_content='Overall rank: 109\\nCountry or region: Cambodia\\nScore: 4.700\\nGDP per capita: 0.574\\nSocial support: 1.122\\nHealthy life expectancy: 0.637\\nFreedom to make life choices: 0.609\\nGenerosity: 0.232\\nPerceptions of corruption: 0.062', metadata={'source': 'data/2019.csv', 'row': 108}), Document(page_content='Overall rank: 110\\nCountry or region: Palestinian Territories\\nScore: 4.696\\nGDP per capita: 0.657\\nSocial support: 1.247\\nHealthy life expectancy: 0.672\\nFreedom to make life choices: 0.225\\nGenerosity: 0.103\\nPerceptions of corruption: 0.066', metadata={'source': 'data/2019.csv', 'row': 109}), Document(page_content='Overall rank: 111\\nCountry or region: Senegal\\nScore: 4.681\\nGDP per capita: 0.450\\nSocial support: 1.134\\nHealthy life expectancy: 0.571\\nFreedom to make life choices: 0.292\\nGenerosity: 0.153\\nPerceptions of corruption: 0.072', metadata={'source': 'data/2019.csv', 'row': 110}), Document(page_content='Overall rank: 112\\nCountry or region: Somalia\\nScore: 4.668\\nGDP per capita: 0.000\\nSocial support: 0.698\\nHealthy life expectancy: 0.268\\nFreedom to make life choices: 0.559\\nGenerosity: 0.243\\nPerceptions of corruption: 0.270', metadata={'source': 'data/2019.csv', 'row': 111}), Document(page_content='Overall rank: 113\\nCountry or region: Namibia\\nScore: 4.639\\nGDP per capita: 0.879\\nSocial support: 1.313\\nHealthy life expectancy: 0.477\\nFreedom to make life choices: 0.401\\nGenerosity: 0.070\\nPerceptions of corruption: 0.056', metadata={'source': 'data/2019.csv', 'row': 112}), Document(page_content='Overall rank: 114\\nCountry or region: Niger\\nScore: 4.628\\nGDP per capita: 0.138\\nSocial support: 0.774\\nHealthy life expectancy: 0.366\\nFreedom to make life choices: 0.318\\nGenerosity: 0.188\\nPerceptions of corruption: 0.102', metadata={'source': 'data/2019.csv', 'row': 113}), Document(page_content='Overall rank: 115\\nCountry or region: Burkina Faso\\nScore: 4.587\\nGDP per capita: 0.331\\nSocial support: 1.056\\nHealthy life expectancy: 0.380\\nFreedom to make life choices: 0.255\\nGenerosity: 0.177\\nPerceptions of corruption: 0.113', metadata={'source': 'data/2019.csv', 'row': 114}), Document(page_content='Overall rank: 116\\nCountry or region: Armenia\\nScore: 4.559\\nGDP per capita: 0.850\\nSocial support: 1.055\\nHealthy life expectancy: 0.815\\nFreedom to make life choices: 0.283\\nGenerosity: 0.095\\nPerceptions of corruption: 0.064', metadata={'source': 'data/2019.csv', 'row': 115}), Document(page_content='Overall rank: 117\\nCountry or region: Iran\\nScore: 4.548\\nGDP per capita: 1.100\\nSocial support: 0.842\\nHealthy life expectancy: 0.785\\nFreedom to make life choices: 0.305\\nGenerosity: 0.270\\nPerceptions of corruption: 0.125', metadata={'source': 'data/2019.csv', 'row': 116}), Document(page_content='Overall rank: 118\\nCountry or region: Guinea\\nScore: 4.534\\nGDP per capita: 0.380\\nSocial support: 0.829\\nHealthy life expectancy: 0.375\\nFreedom to make life choices: 0.332\\nGenerosity: 0.207\\nPerceptions of corruption: 0.086', metadata={'source': 'data/2019.csv', 'row': 117}), Document(page_content='Overall rank: 119\\nCountry or region: Georgia\\nScore: 4.519\\nGDP per capita: 0.886\\nSocial support: 0.666\\nHealthy life expectancy: 0.752\\nFreedom to make life choices: 0.346\\nGenerosity: 0.043\\nPerceptions of corruption: 0.164', metadata={'source': 'data/2019.csv', 'row': 118}), Document(page_content='Overall rank: 120\\nCountry or region: Gambia\\nScore: 4.516\\nGDP per capita: 0.308\\nSocial support: 0.939\\nHealthy life expectancy: 0.428\\nFreedom to make life choices: 0.382\\nGenerosity: 0.269\\nPerceptions of corruption: 0.167', metadata={'source': 'data/2019.csv', 'row': 119}), Document(page_content='Overall rank: 121\\nCountry or region: Kenya\\nScore: 4.509\\nGDP per capita: 0.512\\nSocial support: 0.983\\nHealthy life expectancy: 0.581\\nFreedom to make life choices: 0.431\\nGenerosity: 0.372\\nPerceptions of corruption: 0.053', metadata={'source': 'data/2019.csv', 'row': 120}), Document(page_content='Overall rank: 122\\nCountry or region: Mauritania\\nScore: 4.490\\nGDP per capita: 0.570\\nSocial support: 1.167\\nHealthy life expectancy: 0.489\\nFreedom to make life choices: 0.066\\nGenerosity: 0.106\\nPerceptions of corruption: 0.088', metadata={'source': 'data/2019.csv', 'row': 121}), Document(page_content='Overall rank: 123\\nCountry or region: Mozambique\\nScore: 4.466\\nGDP per capita: 0.204\\nSocial support: 0.986\\nHealthy life expectancy: 0.390\\nFreedom to make life choices: 0.494\\nGenerosity: 0.197\\nPerceptions of corruption: 0.138', metadata={'source': 'data/2019.csv', 'row': 122}), Document(page_content='Overall rank: 124\\nCountry or region: Tunisia\\nScore: 4.461\\nGDP per capita: 0.921\\nSocial support: 1.000\\nHealthy life expectancy: 0.815\\nFreedom to make life choices: 0.167\\nGenerosity: 0.059\\nPerceptions of corruption: 0.055', metadata={'source': 'data/2019.csv', 'row': 123}), Document(page_content='Overall rank: 125\\nCountry or region: Bangladesh\\nScore: 4.456\\nGDP per capita: 0.562\\nSocial support: 0.928\\nHealthy life expectancy: 0.723\\nFreedom to make life choices: 0.527\\nGenerosity: 0.166\\nPerceptions of corruption: 0.143', metadata={'source': 'data/2019.csv', 'row': 124}), Document(page_content='Overall rank: 126\\nCountry or region: Iraq\\nScore: 4.437\\nGDP per capita: 1.043\\nSocial support: 0.980\\nHealthy life expectancy: 0.574\\nFreedom to make life choices: 0.241\\nGenerosity: 0.148\\nPerceptions of corruption: 0.089', metadata={'source': 'data/2019.csv', 'row': 125}), Document(page_content='Overall rank: 127\\nCountry or region: Congo (Kinshasa)\\nScore: 4.418\\nGDP per capita: 0.094\\nSocial support: 1.125\\nHealthy life expectancy: 0.357\\nFreedom to make life choices: 0.269\\nGenerosity: 0.212\\nPerceptions of corruption: 0.053', metadata={'source': 'data/2019.csv', 'row': 126}), Document(page_content='Overall rank: 128\\nCountry or region: Mali\\nScore: 4.390\\nGDP per capita: 0.385\\nSocial support: 1.105\\nHealthy life expectancy: 0.308\\nFreedom to make life choices: 0.327\\nGenerosity: 0.153\\nPerceptions of corruption: 0.052', metadata={'source': 'data/2019.csv', 'row': 127}), Document(page_content='Overall rank: 129\\nCountry or region: Sierra Leone\\nScore: 4.374\\nGDP per capita: 0.268\\nSocial support: 0.841\\nHealthy life expectancy: 0.242\\nFreedom to make life choices: 0.309\\nGenerosity: 0.252\\nPerceptions of corruption: 0.045', metadata={'source': 'data/2019.csv', 'row': 128}), Document(page_content='Overall rank: 130\\nCountry or region: Sri Lanka\\nScore: 4.366\\nGDP per capita: 0.949\\nSocial support: 1.265\\nHealthy life expectancy: 0.831\\nFreedom to make life choices: 0.470\\nGenerosity: 0.244\\nPerceptions of corruption: 0.047', metadata={'source': 'data/2019.csv', 'row': 129}), Document(page_content='Overall rank: 131\\nCountry or region: Myanmar\\nScore: 4.360\\nGDP per capita: 0.710\\nSocial support: 1.181\\nHealthy life expectancy: 0.555\\nFreedom to make life choices: 0.525\\nGenerosity: 0.566\\nPerceptions of corruption: 0.172', metadata={'source': 'data/2019.csv', 'row': 130}), Document(page_content='Overall rank: 132\\nCountry or region: Chad\\nScore: 4.350\\nGDP per capita: 0.350\\nSocial support: 0.766\\nHealthy life expectancy: 0.192\\nFreedom to make life choices: 0.174\\nGenerosity: 0.198\\nPerceptions of corruption: 0.078', metadata={'source': 'data/2019.csv', 'row': 131}), Document(page_content='Overall rank: 133\\nCountry or region: Ukraine\\nScore: 4.332\\nGDP per capita: 0.820\\nSocial support: 1.390\\nHealthy life expectancy: 0.739\\nFreedom to make life choices: 0.178\\nGenerosity: 0.187\\nPerceptions of corruption: 0.010', metadata={'source': 'data/2019.csv', 'row': 132}), Document(page_content='Overall rank: 134\\nCountry or region: Ethiopia\\nScore: 4.286\\nGDP per capita: 0.336\\nSocial support: 1.033\\nHealthy life expectancy: 0.532\\nFreedom to make life choices: 0.344\\nGenerosity: 0.209\\nPerceptions of corruption: 0.100', metadata={'source': 'data/2019.csv', 'row': 133}), Document(page_content='Overall rank: 135\\nCountry or region: Swaziland\\nScore: 4.212\\nGDP per capita: 0.811\\nSocial support: 1.149\\nHealthy life expectancy: 0.000\\nFreedom to make life choices: 0.313\\nGenerosity: 0.074\\nPerceptions of corruption: 0.135', metadata={'source': 'data/2019.csv', 'row': 134}), Document(page_content='Overall rank: 136\\nCountry or region: Uganda\\nScore: 4.189\\nGDP per capita: 0.332\\nSocial support: 1.069\\nHealthy life expectancy: 0.443\\nFreedom to make life choices: 0.356\\nGenerosity: 0.252\\nPerceptions of corruption: 0.060', metadata={'source': 'data/2019.csv', 'row': 135}), Document(page_content='Overall rank: 137\\nCountry or region: Egypt\\nScore: 4.166\\nGDP per capita: 0.913\\nSocial support: 1.039\\nHealthy life expectancy: 0.644\\nFreedom to make life choices: 0.241\\nGenerosity: 0.076\\nPerceptions of corruption: 0.067', metadata={'source': 'data/2019.csv', 'row': 136}), Document(page_content='Overall rank: 138\\nCountry or region: Zambia\\nScore: 4.107\\nGDP per capita: 0.578\\nSocial support: 1.058\\nHealthy life expectancy: 0.426\\nFreedom to make life choices: 0.431\\nGenerosity: 0.247\\nPerceptions of corruption: 0.087', metadata={'source': 'data/2019.csv', 'row': 137}), Document(page_content='Overall rank: 139\\nCountry or region: Togo\\nScore: 4.085\\nGDP per capita: 0.275\\nSocial support: 0.572\\nHealthy life expectancy: 0.410\\nFreedom to make life choices: 0.293\\nGenerosity: 0.177\\nPerceptions of corruption: 0.085', metadata={'source': 'data/2019.csv', 'row': 138}), Document(page_content='Overall rank: 140\\nCountry or region: India\\nScore: 4.015\\nGDP per capita: 0.755\\nSocial support: 0.765\\nHealthy life expectancy: 0.588\\nFreedom to make life choices: 0.498\\nGenerosity: 0.200\\nPerceptions of corruption: 0.085', metadata={'source': 'data/2019.csv', 'row': 139}), Document(page_content='Overall rank: 141\\nCountry or region: Liberia\\nScore: 3.975\\nGDP per capita: 0.073\\nSocial support: 0.922\\nHealthy life expectancy: 0.443\\nFreedom to make life choices: 0.370\\nGenerosity: 0.233\\nPerceptions of corruption: 0.033', metadata={'source': 'data/2019.csv', 'row': 140}), Document(page_content='Overall rank: 142\\nCountry or region: Comoros\\nScore: 3.973\\nGDP per capita: 0.274\\nSocial support: 0.757\\nHealthy life expectancy: 0.505\\nFreedom to make life choices: 0.142\\nGenerosity: 0.275\\nPerceptions of corruption: 0.078', metadata={'source': 'data/2019.csv', 'row': 141}), Document(page_content='Overall rank: 143\\nCountry or region: Madagascar\\nScore: 3.933\\nGDP per capita: 0.274\\nSocial support: 0.916\\nHealthy life expectancy: 0.555\\nFreedom to make life choices: 0.148\\nGenerosity: 0.169\\nPerceptions of corruption: 0.041', metadata={'source': 'data/2019.csv', 'row': 142}), Document(page_content='Overall rank: 144\\nCountry or region: Lesotho\\nScore: 3.802\\nGDP per capita: 0.489\\nSocial support: 1.169\\nHealthy life expectancy: 0.168\\nFreedom to make life choices: 0.359\\nGenerosity: 0.107\\nPerceptions of corruption: 0.093', metadata={'source': 'data/2019.csv', 'row': 143}), Document(page_content='Overall rank: 145\\nCountry or region: Burundi\\nScore: 3.775\\nGDP per capita: 0.046\\nSocial support: 0.447\\nHealthy life expectancy: 0.380\\nFreedom to make life choices: 0.220\\nGenerosity: 0.176\\nPerceptions of corruption: 0.180', metadata={'source': 'data/2019.csv', 'row': 144}), Document(page_content='Overall rank: 146\\nCountry or region: Zimbabwe\\nScore: 3.663\\nGDP per capita: 0.366\\nSocial support: 1.114\\nHealthy life expectancy: 0.433\\nFreedom to make life choices: 0.361\\nGenerosity: 0.151\\nPerceptions of corruption: 0.089', metadata={'source': 'data/2019.csv', 'row': 145}), Document(page_content='Overall rank: 147\\nCountry or region: Haiti\\nScore: 3.597\\nGDP per capita: 0.323\\nSocial support: 0.688\\nHealthy life expectancy: 0.449\\nFreedom to make life choices: 0.026\\nGenerosity: 0.419\\nPerceptions of corruption: 0.110', metadata={'source': 'data/2019.csv', 'row': 146}), Document(page_content='Overall rank: 148\\nCountry or region: Botswana\\nScore: 3.488\\nGDP per capita: 1.041\\nSocial support: 1.145\\nHealthy life expectancy: 0.538\\nFreedom to make life choices: 0.455\\nGenerosity: 0.025\\nPerceptions of corruption: 0.100', metadata={'source': 'data/2019.csv', 'row': 147}), Document(page_content='Overall rank: 149\\nCountry or region: Syria\\nScore: 3.462\\nGDP per capita: 0.619\\nSocial support: 0.378\\nHealthy life expectancy: 0.440\\nFreedom to make life choices: 0.013\\nGenerosity: 0.331\\nPerceptions of corruption: 0.141', metadata={'source': 'data/2019.csv', 'row': 148}), Document(page_content='Overall rank: 150\\nCountry or region: Malawi\\nScore: 3.410\\nGDP per capita: 0.191\\nSocial support: 0.560\\nHealthy life expectancy: 0.495\\nFreedom to make life choices: 0.443\\nGenerosity: 0.218\\nPerceptions of corruption: 0.089', metadata={'source': 'data/2019.csv', 'row': 149}), Document(page_content='Overall rank: 151\\nCountry or region: Yemen\\nScore: 3.380\\nGDP per capita: 0.287\\nSocial support: 1.163\\nHealthy life expectancy: 0.463\\nFreedom to make life choices: 0.143\\nGenerosity: 0.108\\nPerceptions of corruption: 0.077', metadata={'source': 'data/2019.csv', 'row': 150}), Document(page_content='Overall rank: 152\\nCountry or region: Rwanda\\nScore: 3.334\\nGDP per capita: 0.359\\nSocial support: 0.711\\nHealthy life expectancy: 0.614\\nFreedom to make life choices: 0.555\\nGenerosity: 0.217\\nPerceptions of corruption: 0.411', metadata={'source': 'data/2019.csv', 'row': 151}), Document(page_content='Overall rank: 153\\nCountry or region: Tanzania\\nScore: 3.231\\nGDP per capita: 0.476\\nSocial support: 0.885\\nHealthy life expectancy: 0.499\\nFreedom to make life choices: 0.417\\nGenerosity: 0.276\\nPerceptions of corruption: 0.147', metadata={'source': 'data/2019.csv', 'row': 152}), Document(page_content='Overall rank: 154\\nCountry or region: Afghanistan\\nScore: 3.203\\nGDP per capita: 0.350\\nSocial support: 0.517\\nHealthy life expectancy: 0.361\\nFreedom to make life choices: 0.000\\nGenerosity: 0.158\\nPerceptions of corruption: 0.025', metadata={'source': 'data/2019.csv', 'row': 153}), Document(page_content='Overall rank: 155\\nCountry or region: Central African Republic\\nScore: 3.083\\nGDP per capita: 0.026\\nSocial support: 0.000\\nHealthy life expectancy: 0.105\\nFreedom to make life choices: 0.225\\nGenerosity: 0.235\\nPerceptions of corruption: 0.035', metadata={'source': 'data/2019.csv', 'row': 154}), Document(page_content='Overall rank: 156\\nCountry or region: South Sudan\\nScore: 2.853\\nGDP per capita: 0.306\\nSocial support: 0.575\\nHealthy life expectancy: 0.295\\nFreedom to make life choices: 0.010\\nGenerosity: 0.202\\nPerceptions of corruption: 0.091', metadata={'source': 'data/2019.csv', 'row': 155})]\n"
     ]
    }
   ],
   "source": [
    "DB_FAISS_PATH = \"vectorstore/db_faiss\"\n",
    "loader = CSVLoader(file_path=\"data/2019.csv\", encoding=\"utf-8\", csv_args={'delimiter': ','})\n",
    "data = loader.load()\n",
    "print(data)"
   ]
  },
  {
   "cell_type": "code",
   "execution_count": 3,
   "id": "8defb6a1-0e7d-4ba3-a6f1-ac3103ab6215",
   "metadata": {},
   "outputs": [],
   "source": [
    "# Split the text into Chunks\n",
    "text_splitter = RecursiveCharacterTextSplitter(chunk_size=500, chunk_overlap=20)\n",
    "text_chunks = text_splitter.split_documents(data)"
   ]
  },
  {
   "cell_type": "code",
   "execution_count": 4,
   "id": "4b7a3cb3-2109-40fd-af7f-78b6f05e9088",
   "metadata": {},
   "outputs": [
    {
     "name": "stdout",
     "output_type": "stream",
     "text": [
      "156\n"
     ]
    }
   ],
   "source": [
    "print(len(text_chunks))"
   ]
  },
  {
   "cell_type": "code",
   "execution_count": 5,
   "id": "d5267de4-f09a-43f8-8d34-f2c4ee93e966",
   "metadata": {},
   "outputs": [
    {
     "name": "stderr",
     "output_type": "stream",
     "text": [
      "Intel(R) Extension for Scikit-learn* enabled (https://github.com/intel/scikit-learn-intelex)\n"
     ]
    },
    {
     "data": {
      "application/vnd.jupyter.widget-view+json": {
       "model_id": "5a4408d9cc614c8cb4a760c85abba1b6",
       "version_major": 2,
       "version_minor": 0
      },
      "text/plain": [
       ".gitattributes:   0%|          | 0.00/1.18k [00:00<?, ?B/s]"
      ]
     },
     "metadata": {},
     "output_type": "display_data"
    },
    {
     "data": {
      "application/vnd.jupyter.widget-view+json": {
       "model_id": "fbb9ceaa84c74de189375184195d35af",
       "version_major": 2,
       "version_minor": 0
      },
      "text/plain": [
       "1_Pooling/config.json:   0%|          | 0.00/190 [00:00<?, ?B/s]"
      ]
     },
     "metadata": {},
     "output_type": "display_data"
    },
    {
     "data": {
      "application/vnd.jupyter.widget-view+json": {
       "model_id": "998d688aee804d47826db9dcb08dd1d8",
       "version_major": 2,
       "version_minor": 0
      },
      "text/plain": [
       "README.md:   0%|          | 0.00/10.6k [00:00<?, ?B/s]"
      ]
     },
     "metadata": {},
     "output_type": "display_data"
    },
    {
     "data": {
      "application/vnd.jupyter.widget-view+json": {
       "model_id": "ff9ea8b97abb424db00ce2e3020b2b47",
       "version_major": 2,
       "version_minor": 0
      },
      "text/plain": [
       "config.json:   0%|          | 0.00/612 [00:00<?, ?B/s]"
      ]
     },
     "metadata": {},
     "output_type": "display_data"
    },
    {
     "data": {
      "application/vnd.jupyter.widget-view+json": {
       "model_id": "ccbaaf6ef568415ba8de7b4be55591b4",
       "version_major": 2,
       "version_minor": 0
      },
      "text/plain": [
       "config_sentence_transformers.json:   0%|          | 0.00/116 [00:00<?, ?B/s]"
      ]
     },
     "metadata": {},
     "output_type": "display_data"
    },
    {
     "data": {
      "application/vnd.jupyter.widget-view+json": {
       "model_id": "ef2eb7d6c82845f7a48fb2b0ad882037",
       "version_major": 2,
       "version_minor": 0
      },
      "text/plain": [
       "data_config.json:   0%|          | 0.00/39.3k [00:00<?, ?B/s]"
      ]
     },
     "metadata": {},
     "output_type": "display_data"
    },
    {
     "data": {
      "application/vnd.jupyter.widget-view+json": {
       "model_id": "6284414e5d1e44308f48e54a4a499e3f",
       "version_major": 2,
       "version_minor": 0
      },
      "text/plain": [
       "pytorch_model.bin:   0%|          | 0.00/90.9M [00:00<?, ?B/s]"
      ]
     },
     "metadata": {},
     "output_type": "display_data"
    },
    {
     "data": {
      "application/vnd.jupyter.widget-view+json": {
       "model_id": "7bb6bce2ee484f62b4bb51c0e420391b",
       "version_major": 2,
       "version_minor": 0
      },
      "text/plain": [
       "sentence_bert_config.json:   0%|          | 0.00/53.0 [00:00<?, ?B/s]"
      ]
     },
     "metadata": {},
     "output_type": "display_data"
    },
    {
     "data": {
      "application/vnd.jupyter.widget-view+json": {
       "model_id": "763da6f8da4844e68b768edaaaa0077e",
       "version_major": 2,
       "version_minor": 0
      },
      "text/plain": [
       "special_tokens_map.json:   0%|          | 0.00/112 [00:00<?, ?B/s]"
      ]
     },
     "metadata": {},
     "output_type": "display_data"
    },
    {
     "data": {
      "application/vnd.jupyter.widget-view+json": {
       "model_id": "2941447f1fd249a2a7397e5473d1b945",
       "version_major": 2,
       "version_minor": 0
      },
      "text/plain": [
       "tokenizer.json:   0%|          | 0.00/466k [00:00<?, ?B/s]"
      ]
     },
     "metadata": {},
     "output_type": "display_data"
    },
    {
     "data": {
      "application/vnd.jupyter.widget-view+json": {
       "model_id": "a8f750750b494579abf4dfa2081aa1ed",
       "version_major": 2,
       "version_minor": 0
      },
      "text/plain": [
       "tokenizer_config.json:   0%|          | 0.00/350 [00:00<?, ?B/s]"
      ]
     },
     "metadata": {},
     "output_type": "display_data"
    },
    {
     "data": {
      "application/vnd.jupyter.widget-view+json": {
       "model_id": "8f3cbc59e4354fb09472cf7c63196cbf",
       "version_major": 2,
       "version_minor": 0
      },
      "text/plain": [
       "train_script.py:   0%|          | 0.00/13.2k [00:00<?, ?B/s]"
      ]
     },
     "metadata": {},
     "output_type": "display_data"
    },
    {
     "data": {
      "application/vnd.jupyter.widget-view+json": {
       "model_id": "9b7b7858eba043379af7769a19b31178",
       "version_major": 2,
       "version_minor": 0
      },
      "text/plain": [
       "vocab.txt:   0%|          | 0.00/232k [00:00<?, ?B/s]"
      ]
     },
     "metadata": {},
     "output_type": "display_data"
    },
    {
     "data": {
      "application/vnd.jupyter.widget-view+json": {
       "model_id": "d444f2523f4d4937bf1419fee8c3b8ef",
       "version_major": 2,
       "version_minor": 0
      },
      "text/plain": [
       "modules.json:   0%|          | 0.00/349 [00:00<?, ?B/s]"
      ]
     },
     "metadata": {},
     "output_type": "display_data"
    }
   ],
   "source": [
    "# Download Sentence Transformers Embedding From Hugging Face\n",
    "embeddings = HuggingFaceEmbeddings(model_name = 'sentence-transformers/all-MiniLM-L6-v2')"
   ]
  },
  {
   "cell_type": "code",
   "execution_count": 6,
   "id": "3991f77b-9329-468f-b97f-777a63d393a1",
   "metadata": {},
   "outputs": [],
   "source": [
    "# COnverting the text Chunks into embeddings and saving the embeddings into FAISS Knowledge Base\n",
    "docsearch = FAISS.from_documents(text_chunks, embeddings)"
   ]
  },
  {
   "cell_type": "code",
   "execution_count": 7,
   "id": "357ca5a9-04ca-49ab-953b-ad653b734c6b",
   "metadata": {},
   "outputs": [],
   "source": [
    "docsearch.save_local(DB_FAISS_PATH)"
   ]
  },
  {
   "cell_type": "code",
   "execution_count": 8,
   "id": "8288c551-ca40-4450-8189-5a3e2b3b9f8f",
   "metadata": {},
   "outputs": [
    {
     "ename": "RepositoryNotFoundError",
     "evalue": "401 Client Error. (Request ID: Root=1-655b823e-68d7977e0e2ee0f10bbd4e66;8699087c-7880-422d-a882-d8451bab08d6)\n\nRepository Not Found for url: https://huggingface.co/api/models/models/llama-2-7b-chat.ggmlv3.q4_0.bin/revision/main.\nPlease make sure you specified the correct `repo_id` and `repo_type`.\nIf you are trying to access a private or gated repo, make sure you are authenticated.\nInvalid username or password.",
     "output_type": "error",
     "traceback": [
      "\u001b[0;31m---------------------------------------------------------------------------\u001b[0m",
      "\u001b[0;31mHTTPError\u001b[0m                                 Traceback (most recent call last)",
      "File \u001b[0;32m~/.local/lib/python3.9/site-packages/huggingface_hub/utils/_errors.py:270\u001b[0m, in \u001b[0;36mhf_raise_for_status\u001b[0;34m(response, endpoint_name)\u001b[0m\n\u001b[1;32m    269\u001b[0m \u001b[38;5;28;01mtry\u001b[39;00m:\n\u001b[0;32m--> 270\u001b[0m     \u001b[43mresponse\u001b[49m\u001b[38;5;241;43m.\u001b[39;49m\u001b[43mraise_for_status\u001b[49m\u001b[43m(\u001b[49m\u001b[43m)\u001b[49m\n\u001b[1;32m    271\u001b[0m \u001b[38;5;28;01mexcept\u001b[39;00m HTTPError \u001b[38;5;28;01mas\u001b[39;00m e:\n",
      "File \u001b[0;32m/opt/intel/oneapi/intelpython/latest/lib/python3.9/site-packages/requests/models.py:1021\u001b[0m, in \u001b[0;36mResponse.raise_for_status\u001b[0;34m(self)\u001b[0m\n\u001b[1;32m   1020\u001b[0m \u001b[38;5;28;01mif\u001b[39;00m http_error_msg:\n\u001b[0;32m-> 1021\u001b[0m     \u001b[38;5;28;01mraise\u001b[39;00m HTTPError(http_error_msg, response\u001b[38;5;241m=\u001b[39m\u001b[38;5;28mself\u001b[39m)\n",
      "\u001b[0;31mHTTPError\u001b[0m: 401 Client Error: Unauthorized for url: https://huggingface.co/api/models/models/llama-2-7b-chat.ggmlv3.q4_0.bin/revision/main",
      "\nThe above exception was the direct cause of the following exception:\n",
      "\u001b[0;31mRepositoryNotFoundError\u001b[0m                   Traceback (most recent call last)",
      "Cell \u001b[0;32mIn[8], line 1\u001b[0m\n\u001b[0;32m----> 1\u001b[0m llm \u001b[38;5;241m=\u001b[39m \u001b[43mCTransformers\u001b[49m\u001b[43m(\u001b[49m\u001b[43mmodel\u001b[49m\u001b[38;5;241;43m=\u001b[39;49m\u001b[38;5;124;43m\"\u001b[39;49m\u001b[38;5;124;43mmodels/llama-2-7b-chat.ggmlv3.q4_0.bin\u001b[39;49m\u001b[38;5;124;43m\"\u001b[39;49m\u001b[43m,\u001b[49m\n\u001b[1;32m      2\u001b[0m \u001b[43m                    \u001b[49m\u001b[43mmodel_type\u001b[49m\u001b[38;5;241;43m=\u001b[39;49m\u001b[38;5;124;43m\"\u001b[39;49m\u001b[38;5;124;43mllama\u001b[39;49m\u001b[38;5;124;43m\"\u001b[39;49m\u001b[43m,\u001b[49m\n\u001b[1;32m      3\u001b[0m \u001b[43m                    \u001b[49m\u001b[43mmax_new_tokens\u001b[49m\u001b[38;5;241;43m=\u001b[39;49m\u001b[38;5;241;43m512\u001b[39;49m\u001b[43m,\u001b[49m\n\u001b[1;32m      4\u001b[0m \u001b[43m                    \u001b[49m\u001b[43mtemperature\u001b[49m\u001b[38;5;241;43m=\u001b[39;49m\u001b[38;5;241;43m0.1\u001b[39;49m\u001b[43m)\u001b[49m\n",
      "File \u001b[0;32m~/.local/lib/python3.9/site-packages/langchain/load/serializable.py:97\u001b[0m, in \u001b[0;36mSerializable.__init__\u001b[0;34m(self, **kwargs)\u001b[0m\n\u001b[1;32m     96\u001b[0m \u001b[38;5;28;01mdef\u001b[39;00m \u001b[38;5;21m__init__\u001b[39m(\u001b[38;5;28mself\u001b[39m, \u001b[38;5;241m*\u001b[39m\u001b[38;5;241m*\u001b[39mkwargs: Any) \u001b[38;5;241m-\u001b[39m\u001b[38;5;241m>\u001b[39m \u001b[38;5;28;01mNone\u001b[39;00m:\n\u001b[0;32m---> 97\u001b[0m     \u001b[38;5;28;43msuper\u001b[39;49m\u001b[43m(\u001b[49m\u001b[43m)\u001b[49m\u001b[38;5;241;43m.\u001b[39;49m\u001b[38;5;21;43m__init__\u001b[39;49m\u001b[43m(\u001b[49m\u001b[38;5;241;43m*\u001b[39;49m\u001b[38;5;241;43m*\u001b[39;49m\u001b[43mkwargs\u001b[49m\u001b[43m)\u001b[49m\n\u001b[1;32m     98\u001b[0m     \u001b[38;5;28mself\u001b[39m\u001b[38;5;241m.\u001b[39m_lc_kwargs \u001b[38;5;241m=\u001b[39m kwargs\n",
      "File \u001b[0;32m~/.local/lib/python3.9/site-packages/pydantic/main.py:339\u001b[0m, in \u001b[0;36mpydantic.main.BaseModel.__init__\u001b[0;34m()\u001b[0m\n",
      "File \u001b[0;32m~/.local/lib/python3.9/site-packages/pydantic/main.py:1102\u001b[0m, in \u001b[0;36mpydantic.main.validate_model\u001b[0;34m()\u001b[0m\n",
      "File \u001b[0;32m~/.local/lib/python3.9/site-packages/langchain/llms/ctransformers.py:72\u001b[0m, in \u001b[0;36mCTransformers.validate_environment\u001b[0;34m(cls, values)\u001b[0m\n\u001b[1;32m     66\u001b[0m     \u001b[38;5;28;01mraise\u001b[39;00m \u001b[38;5;167;01mImportError\u001b[39;00m(\n\u001b[1;32m     67\u001b[0m         \u001b[38;5;124m\"\u001b[39m\u001b[38;5;124mCould not import `ctransformers` package. \u001b[39m\u001b[38;5;124m\"\u001b[39m\n\u001b[1;32m     68\u001b[0m         \u001b[38;5;124m\"\u001b[39m\u001b[38;5;124mPlease install it with `pip install ctransformers`\u001b[39m\u001b[38;5;124m\"\u001b[39m\n\u001b[1;32m     69\u001b[0m     )\n\u001b[1;32m     71\u001b[0m config \u001b[38;5;241m=\u001b[39m values[\u001b[38;5;124m\"\u001b[39m\u001b[38;5;124mconfig\u001b[39m\u001b[38;5;124m\"\u001b[39m] \u001b[38;5;129;01mor\u001b[39;00m {}\n\u001b[0;32m---> 72\u001b[0m values[\u001b[38;5;124m\"\u001b[39m\u001b[38;5;124mclient\u001b[39m\u001b[38;5;124m\"\u001b[39m] \u001b[38;5;241m=\u001b[39m \u001b[43mAutoModelForCausalLM\u001b[49m\u001b[38;5;241;43m.\u001b[39;49m\u001b[43mfrom_pretrained\u001b[49m\u001b[43m(\u001b[49m\n\u001b[1;32m     73\u001b[0m \u001b[43m    \u001b[49m\u001b[43mvalues\u001b[49m\u001b[43m[\u001b[49m\u001b[38;5;124;43m\"\u001b[39;49m\u001b[38;5;124;43mmodel\u001b[39;49m\u001b[38;5;124;43m\"\u001b[39;49m\u001b[43m]\u001b[49m\u001b[43m,\u001b[49m\n\u001b[1;32m     74\u001b[0m \u001b[43m    \u001b[49m\u001b[43mmodel_type\u001b[49m\u001b[38;5;241;43m=\u001b[39;49m\u001b[43mvalues\u001b[49m\u001b[43m[\u001b[49m\u001b[38;5;124;43m\"\u001b[39;49m\u001b[38;5;124;43mmodel_type\u001b[39;49m\u001b[38;5;124;43m\"\u001b[39;49m\u001b[43m]\u001b[49m\u001b[43m,\u001b[49m\n\u001b[1;32m     75\u001b[0m \u001b[43m    \u001b[49m\u001b[43mmodel_file\u001b[49m\u001b[38;5;241;43m=\u001b[39;49m\u001b[43mvalues\u001b[49m\u001b[43m[\u001b[49m\u001b[38;5;124;43m\"\u001b[39;49m\u001b[38;5;124;43mmodel_file\u001b[39;49m\u001b[38;5;124;43m\"\u001b[39;49m\u001b[43m]\u001b[49m\u001b[43m,\u001b[49m\n\u001b[1;32m     76\u001b[0m \u001b[43m    \u001b[49m\u001b[43mlib\u001b[49m\u001b[38;5;241;43m=\u001b[39;49m\u001b[43mvalues\u001b[49m\u001b[43m[\u001b[49m\u001b[38;5;124;43m\"\u001b[39;49m\u001b[38;5;124;43mlib\u001b[39;49m\u001b[38;5;124;43m\"\u001b[39;49m\u001b[43m]\u001b[49m\u001b[43m,\u001b[49m\n\u001b[1;32m     77\u001b[0m \u001b[43m    \u001b[49m\u001b[38;5;241;43m*\u001b[39;49m\u001b[38;5;241;43m*\u001b[39;49m\u001b[43mconfig\u001b[49m\u001b[43m,\u001b[49m\n\u001b[1;32m     78\u001b[0m \u001b[43m\u001b[49m\u001b[43m)\u001b[49m\n\u001b[1;32m     79\u001b[0m \u001b[38;5;28;01mreturn\u001b[39;00m values\n",
      "File \u001b[0;32m~/.local/lib/python3.9/site-packages/ctransformers/hub.py:151\u001b[0m, in \u001b[0;36mAutoModelForCausalLM.from_pretrained\u001b[0;34m(cls, model_path_or_repo_id, model_type, model_file, config, lib, local_files_only, revision, hf, **kwargs)\u001b[0m\n\u001b[1;32m    142\u001b[0m     \u001b[38;5;28;01mfrom\u001b[39;00m \u001b[38;5;21;01m.\u001b[39;00m \u001b[38;5;28;01mimport\u001b[39;00m gptq\n\u001b[1;32m    144\u001b[0m     \u001b[38;5;28;01mreturn\u001b[39;00m gptq\u001b[38;5;241m.\u001b[39mAutoModelForCausalLM\u001b[38;5;241m.\u001b[39mfrom_pretrained(\n\u001b[1;32m    145\u001b[0m         model_path_or_repo_id,\n\u001b[1;32m    146\u001b[0m         local_files_only\u001b[38;5;241m=\u001b[39mlocal_files_only,\n\u001b[1;32m    147\u001b[0m         revision\u001b[38;5;241m=\u001b[39mrevision,\n\u001b[1;32m    148\u001b[0m         \u001b[38;5;241m*\u001b[39m\u001b[38;5;241m*\u001b[39mkwargs,\n\u001b[1;32m    149\u001b[0m     )\n\u001b[0;32m--> 151\u001b[0m config \u001b[38;5;241m=\u001b[39m config \u001b[38;5;129;01mor\u001b[39;00m \u001b[43mAutoConfig\u001b[49m\u001b[38;5;241;43m.\u001b[39;49m\u001b[43mfrom_pretrained\u001b[49m\u001b[43m(\u001b[49m\n\u001b[1;32m    152\u001b[0m \u001b[43m    \u001b[49m\u001b[43mmodel_path_or_repo_id\u001b[49m\u001b[43m,\u001b[49m\n\u001b[1;32m    153\u001b[0m \u001b[43m    \u001b[49m\u001b[43mlocal_files_only\u001b[49m\u001b[38;5;241;43m=\u001b[39;49m\u001b[43mlocal_files_only\u001b[49m\u001b[43m,\u001b[49m\n\u001b[1;32m    154\u001b[0m \u001b[43m    \u001b[49m\u001b[43mrevision\u001b[49m\u001b[38;5;241;43m=\u001b[39;49m\u001b[43mrevision\u001b[49m\u001b[43m,\u001b[49m\n\u001b[1;32m    155\u001b[0m \u001b[43m    \u001b[49m\u001b[38;5;241;43m*\u001b[39;49m\u001b[38;5;241;43m*\u001b[39;49m\u001b[43mkwargs\u001b[49m\u001b[43m,\u001b[49m\n\u001b[1;32m    156\u001b[0m \u001b[43m\u001b[49m\u001b[43m)\u001b[49m\n\u001b[1;32m    157\u001b[0m model_type \u001b[38;5;241m=\u001b[39m model_type \u001b[38;5;129;01mor\u001b[39;00m config\u001b[38;5;241m.\u001b[39mmodel_type\n\u001b[1;32m    159\u001b[0m path_type \u001b[38;5;241m=\u001b[39m get_path_type(model_path_or_repo_id)\n",
      "File \u001b[0;32m~/.local/lib/python3.9/site-packages/ctransformers/hub.py:48\u001b[0m, in \u001b[0;36mAutoConfig.from_pretrained\u001b[0;34m(cls, model_path_or_repo_id, local_files_only, revision, **kwargs)\u001b[0m\n\u001b[1;32m     46\u001b[0m     \u001b[38;5;28mcls\u001b[39m\u001b[38;5;241m.\u001b[39m_update_from_dir(model_path_or_repo_id, auto_config)\n\u001b[1;32m     47\u001b[0m \u001b[38;5;28;01melif\u001b[39;00m path_type \u001b[38;5;241m==\u001b[39m \u001b[38;5;124m\"\u001b[39m\u001b[38;5;124mrepo\u001b[39m\u001b[38;5;124m\"\u001b[39m:\n\u001b[0;32m---> 48\u001b[0m     \u001b[38;5;28;43mcls\u001b[39;49m\u001b[38;5;241;43m.\u001b[39;49m\u001b[43m_update_from_repo\u001b[49m\u001b[43m(\u001b[49m\n\u001b[1;32m     49\u001b[0m \u001b[43m        \u001b[49m\u001b[43mmodel_path_or_repo_id\u001b[49m\u001b[43m,\u001b[49m\n\u001b[1;32m     50\u001b[0m \u001b[43m        \u001b[49m\u001b[43mauto_config\u001b[49m\u001b[43m,\u001b[49m\n\u001b[1;32m     51\u001b[0m \u001b[43m        \u001b[49m\u001b[43mlocal_files_only\u001b[49m\u001b[38;5;241;43m=\u001b[39;49m\u001b[43mlocal_files_only\u001b[49m\u001b[43m,\u001b[49m\n\u001b[1;32m     52\u001b[0m \u001b[43m        \u001b[49m\u001b[43mrevision\u001b[49m\u001b[38;5;241;43m=\u001b[39;49m\u001b[43mrevision\u001b[49m\u001b[43m,\u001b[49m\n\u001b[1;32m     53\u001b[0m \u001b[43m    \u001b[49m\u001b[43m)\u001b[49m\n\u001b[1;32m     55\u001b[0m \u001b[38;5;28;01mfor\u001b[39;00m k, v \u001b[38;5;129;01min\u001b[39;00m kwargs\u001b[38;5;241m.\u001b[39mitems():\n\u001b[1;32m     56\u001b[0m     \u001b[38;5;28;01mif\u001b[39;00m \u001b[38;5;129;01mnot\u001b[39;00m \u001b[38;5;28mhasattr\u001b[39m(config, k):\n",
      "File \u001b[0;32m~/.local/lib/python3.9/site-packages/ctransformers/hub.py:72\u001b[0m, in \u001b[0;36mAutoConfig._update_from_repo\u001b[0;34m(cls, repo_id, auto_config, local_files_only, revision)\u001b[0m\n\u001b[1;32m     64\u001b[0m \u001b[38;5;129m@classmethod\u001b[39m\n\u001b[1;32m     65\u001b[0m \u001b[38;5;28;01mdef\u001b[39;00m \u001b[38;5;21m_update_from_repo\u001b[39m(\n\u001b[1;32m     66\u001b[0m     \u001b[38;5;28mcls\u001b[39m,\n\u001b[0;32m   (...)\u001b[0m\n\u001b[1;32m     70\u001b[0m     revision: Optional[\u001b[38;5;28mstr\u001b[39m] \u001b[38;5;241m=\u001b[39m \u001b[38;5;28;01mNone\u001b[39;00m,\n\u001b[1;32m     71\u001b[0m ) \u001b[38;5;241m-\u001b[39m\u001b[38;5;241m>\u001b[39m \u001b[38;5;28;01mNone\u001b[39;00m:\n\u001b[0;32m---> 72\u001b[0m     path \u001b[38;5;241m=\u001b[39m \u001b[43msnapshot_download\u001b[49m\u001b[43m(\u001b[49m\n\u001b[1;32m     73\u001b[0m \u001b[43m        \u001b[49m\u001b[43mrepo_id\u001b[49m\u001b[38;5;241;43m=\u001b[39;49m\u001b[43mrepo_id\u001b[49m\u001b[43m,\u001b[49m\n\u001b[1;32m     74\u001b[0m \u001b[43m        \u001b[49m\u001b[43mallow_patterns\u001b[49m\u001b[38;5;241;43m=\u001b[39;49m\u001b[38;5;124;43m\"\u001b[39;49m\u001b[38;5;124;43mconfig.json\u001b[39;49m\u001b[38;5;124;43m\"\u001b[39;49m\u001b[43m,\u001b[49m\n\u001b[1;32m     75\u001b[0m \u001b[43m        \u001b[49m\u001b[43mlocal_files_only\u001b[49m\u001b[38;5;241;43m=\u001b[39;49m\u001b[43mlocal_files_only\u001b[49m\u001b[43m,\u001b[49m\n\u001b[1;32m     76\u001b[0m \u001b[43m        \u001b[49m\u001b[43mrevision\u001b[49m\u001b[38;5;241;43m=\u001b[39;49m\u001b[43mrevision\u001b[49m\u001b[43m,\u001b[49m\n\u001b[1;32m     77\u001b[0m \u001b[43m    \u001b[49m\u001b[43m)\u001b[49m\n\u001b[1;32m     78\u001b[0m     \u001b[38;5;28mcls\u001b[39m\u001b[38;5;241m.\u001b[39m_update_from_dir(path, auto_config)\n",
      "File \u001b[0;32m~/.local/lib/python3.9/site-packages/huggingface_hub/utils/_validators.py:118\u001b[0m, in \u001b[0;36mvalidate_hf_hub_args.<locals>._inner_fn\u001b[0;34m(*args, **kwargs)\u001b[0m\n\u001b[1;32m    115\u001b[0m \u001b[38;5;28;01mif\u001b[39;00m check_use_auth_token:\n\u001b[1;32m    116\u001b[0m     kwargs \u001b[38;5;241m=\u001b[39m smoothly_deprecate_use_auth_token(fn_name\u001b[38;5;241m=\u001b[39mfn\u001b[38;5;241m.\u001b[39m\u001b[38;5;18m__name__\u001b[39m, has_token\u001b[38;5;241m=\u001b[39mhas_token, kwargs\u001b[38;5;241m=\u001b[39mkwargs)\n\u001b[0;32m--> 118\u001b[0m \u001b[38;5;28;01mreturn\u001b[39;00m \u001b[43mfn\u001b[49m\u001b[43m(\u001b[49m\u001b[38;5;241;43m*\u001b[39;49m\u001b[43margs\u001b[49m\u001b[43m,\u001b[49m\u001b[43m \u001b[49m\u001b[38;5;241;43m*\u001b[39;49m\u001b[38;5;241;43m*\u001b[39;49m\u001b[43mkwargs\u001b[49m\u001b[43m)\u001b[49m\n",
      "File \u001b[0;32m~/.local/lib/python3.9/site-packages/huggingface_hub/_snapshot_download.py:187\u001b[0m, in \u001b[0;36msnapshot_download\u001b[0;34m(repo_id, repo_type, revision, cache_dir, local_dir, local_dir_use_symlinks, library_name, library_version, user_agent, proxies, etag_timeout, resume_download, force_download, token, local_files_only, allow_patterns, ignore_patterns, max_workers, tqdm_class, endpoint)\u001b[0m\n\u001b[1;32m    185\u001b[0m \u001b[38;5;66;03m# if we have internet connection we retrieve the correct folder name from the huggingface api\u001b[39;00m\n\u001b[1;32m    186\u001b[0m api \u001b[38;5;241m=\u001b[39m HfApi(library_name\u001b[38;5;241m=\u001b[39mlibrary_name, library_version\u001b[38;5;241m=\u001b[39mlibrary_version, user_agent\u001b[38;5;241m=\u001b[39muser_agent, endpoint\u001b[38;5;241m=\u001b[39mendpoint)\n\u001b[0;32m--> 187\u001b[0m repo_info \u001b[38;5;241m=\u001b[39m \u001b[43mapi\u001b[49m\u001b[38;5;241;43m.\u001b[39;49m\u001b[43mrepo_info\u001b[49m\u001b[43m(\u001b[49m\u001b[43mrepo_id\u001b[49m\u001b[38;5;241;43m=\u001b[39;49m\u001b[43mrepo_id\u001b[49m\u001b[43m,\u001b[49m\u001b[43m \u001b[49m\u001b[43mrepo_type\u001b[49m\u001b[38;5;241;43m=\u001b[39;49m\u001b[43mrepo_type\u001b[49m\u001b[43m,\u001b[49m\u001b[43m \u001b[49m\u001b[43mrevision\u001b[49m\u001b[38;5;241;43m=\u001b[39;49m\u001b[43mrevision\u001b[49m\u001b[43m,\u001b[49m\u001b[43m \u001b[49m\u001b[43mtoken\u001b[49m\u001b[38;5;241;43m=\u001b[39;49m\u001b[43mtoken\u001b[49m\u001b[43m)\u001b[49m\n\u001b[1;32m    188\u001b[0m \u001b[38;5;28;01massert\u001b[39;00m repo_info\u001b[38;5;241m.\u001b[39msha \u001b[38;5;129;01mis\u001b[39;00m \u001b[38;5;129;01mnot\u001b[39;00m \u001b[38;5;28;01mNone\u001b[39;00m, \u001b[38;5;124m\"\u001b[39m\u001b[38;5;124mRepo info returned from server must have a revision sha.\u001b[39m\u001b[38;5;124m\"\u001b[39m\n\u001b[1;32m    189\u001b[0m \u001b[38;5;28;01massert\u001b[39;00m repo_info\u001b[38;5;241m.\u001b[39msiblings \u001b[38;5;129;01mis\u001b[39;00m \u001b[38;5;129;01mnot\u001b[39;00m \u001b[38;5;28;01mNone\u001b[39;00m, \u001b[38;5;124m\"\u001b[39m\u001b[38;5;124mRepo info returned from server must have a siblings list.\u001b[39m\u001b[38;5;124m\"\u001b[39m\n",
      "File \u001b[0;32m~/.local/lib/python3.9/site-packages/huggingface_hub/utils/_validators.py:118\u001b[0m, in \u001b[0;36mvalidate_hf_hub_args.<locals>._inner_fn\u001b[0;34m(*args, **kwargs)\u001b[0m\n\u001b[1;32m    115\u001b[0m \u001b[38;5;28;01mif\u001b[39;00m check_use_auth_token:\n\u001b[1;32m    116\u001b[0m     kwargs \u001b[38;5;241m=\u001b[39m smoothly_deprecate_use_auth_token(fn_name\u001b[38;5;241m=\u001b[39mfn\u001b[38;5;241m.\u001b[39m\u001b[38;5;18m__name__\u001b[39m, has_token\u001b[38;5;241m=\u001b[39mhas_token, kwargs\u001b[38;5;241m=\u001b[39mkwargs)\n\u001b[0;32m--> 118\u001b[0m \u001b[38;5;28;01mreturn\u001b[39;00m \u001b[43mfn\u001b[49m\u001b[43m(\u001b[49m\u001b[38;5;241;43m*\u001b[39;49m\u001b[43margs\u001b[49m\u001b[43m,\u001b[49m\u001b[43m \u001b[49m\u001b[38;5;241;43m*\u001b[39;49m\u001b[38;5;241;43m*\u001b[39;49m\u001b[43mkwargs\u001b[49m\u001b[43m)\u001b[49m\n",
      "File \u001b[0;32m~/.local/lib/python3.9/site-packages/huggingface_hub/hf_api.py:2112\u001b[0m, in \u001b[0;36mHfApi.repo_info\u001b[0;34m(self, repo_id, revision, repo_type, timeout, files_metadata, token)\u001b[0m\n\u001b[1;32m   2110\u001b[0m \u001b[38;5;28;01melse\u001b[39;00m:\n\u001b[1;32m   2111\u001b[0m     \u001b[38;5;28;01mraise\u001b[39;00m \u001b[38;5;167;01mValueError\u001b[39;00m(\u001b[38;5;124m\"\u001b[39m\u001b[38;5;124mUnsupported repo type.\u001b[39m\u001b[38;5;124m\"\u001b[39m)\n\u001b[0;32m-> 2112\u001b[0m \u001b[38;5;28;01mreturn\u001b[39;00m \u001b[43mmethod\u001b[49m\u001b[43m(\u001b[49m\n\u001b[1;32m   2113\u001b[0m \u001b[43m    \u001b[49m\u001b[43mrepo_id\u001b[49m\u001b[43m,\u001b[49m\n\u001b[1;32m   2114\u001b[0m \u001b[43m    \u001b[49m\u001b[43mrevision\u001b[49m\u001b[38;5;241;43m=\u001b[39;49m\u001b[43mrevision\u001b[49m\u001b[43m,\u001b[49m\n\u001b[1;32m   2115\u001b[0m \u001b[43m    \u001b[49m\u001b[43mtoken\u001b[49m\u001b[38;5;241;43m=\u001b[39;49m\u001b[43mtoken\u001b[49m\u001b[43m,\u001b[49m\n\u001b[1;32m   2116\u001b[0m \u001b[43m    \u001b[49m\u001b[43mtimeout\u001b[49m\u001b[38;5;241;43m=\u001b[39;49m\u001b[43mtimeout\u001b[49m\u001b[43m,\u001b[49m\n\u001b[1;32m   2117\u001b[0m \u001b[43m    \u001b[49m\u001b[43mfiles_metadata\u001b[49m\u001b[38;5;241;43m=\u001b[39;49m\u001b[43mfiles_metadata\u001b[49m\u001b[43m,\u001b[49m\n\u001b[1;32m   2118\u001b[0m \u001b[43m\u001b[49m\u001b[43m)\u001b[49m\n",
      "File \u001b[0;32m~/.local/lib/python3.9/site-packages/huggingface_hub/utils/_validators.py:118\u001b[0m, in \u001b[0;36mvalidate_hf_hub_args.<locals>._inner_fn\u001b[0;34m(*args, **kwargs)\u001b[0m\n\u001b[1;32m    115\u001b[0m \u001b[38;5;28;01mif\u001b[39;00m check_use_auth_token:\n\u001b[1;32m    116\u001b[0m     kwargs \u001b[38;5;241m=\u001b[39m smoothly_deprecate_use_auth_token(fn_name\u001b[38;5;241m=\u001b[39mfn\u001b[38;5;241m.\u001b[39m\u001b[38;5;18m__name__\u001b[39m, has_token\u001b[38;5;241m=\u001b[39mhas_token, kwargs\u001b[38;5;241m=\u001b[39mkwargs)\n\u001b[0;32m--> 118\u001b[0m \u001b[38;5;28;01mreturn\u001b[39;00m \u001b[43mfn\u001b[49m\u001b[43m(\u001b[49m\u001b[38;5;241;43m*\u001b[39;49m\u001b[43margs\u001b[49m\u001b[43m,\u001b[49m\u001b[43m \u001b[49m\u001b[38;5;241;43m*\u001b[39;49m\u001b[38;5;241;43m*\u001b[39;49m\u001b[43mkwargs\u001b[49m\u001b[43m)\u001b[49m\n",
      "File \u001b[0;32m~/.local/lib/python3.9/site-packages/huggingface_hub/hf_api.py:1922\u001b[0m, in \u001b[0;36mHfApi.model_info\u001b[0;34m(self, repo_id, revision, timeout, securityStatus, files_metadata, token)\u001b[0m\n\u001b[1;32m   1920\u001b[0m     params[\u001b[38;5;124m\"\u001b[39m\u001b[38;5;124mblobs\u001b[39m\u001b[38;5;124m\"\u001b[39m] \u001b[38;5;241m=\u001b[39m \u001b[38;5;28;01mTrue\u001b[39;00m\n\u001b[1;32m   1921\u001b[0m r \u001b[38;5;241m=\u001b[39m get_session()\u001b[38;5;241m.\u001b[39mget(path, headers\u001b[38;5;241m=\u001b[39mheaders, timeout\u001b[38;5;241m=\u001b[39mtimeout, params\u001b[38;5;241m=\u001b[39mparams)\n\u001b[0;32m-> 1922\u001b[0m \u001b[43mhf_raise_for_status\u001b[49m\u001b[43m(\u001b[49m\u001b[43mr\u001b[49m\u001b[43m)\u001b[49m\n\u001b[1;32m   1923\u001b[0m data \u001b[38;5;241m=\u001b[39m r\u001b[38;5;241m.\u001b[39mjson()\n\u001b[1;32m   1924\u001b[0m \u001b[38;5;28;01mreturn\u001b[39;00m ModelInfo(\u001b[38;5;241m*\u001b[39m\u001b[38;5;241m*\u001b[39mdata)\n",
      "File \u001b[0;32m~/.local/lib/python3.9/site-packages/huggingface_hub/utils/_errors.py:320\u001b[0m, in \u001b[0;36mhf_raise_for_status\u001b[0;34m(response, endpoint_name)\u001b[0m\n\u001b[1;32m    306\u001b[0m \u001b[38;5;28;01melif\u001b[39;00m error_code \u001b[38;5;241m==\u001b[39m \u001b[38;5;124m\"\u001b[39m\u001b[38;5;124mRepoNotFound\u001b[39m\u001b[38;5;124m\"\u001b[39m \u001b[38;5;129;01mor\u001b[39;00m response\u001b[38;5;241m.\u001b[39mstatus_code \u001b[38;5;241m==\u001b[39m \u001b[38;5;241m401\u001b[39m:\n\u001b[1;32m    307\u001b[0m     \u001b[38;5;66;03m# 401 is misleading as it is returned for:\u001b[39;00m\n\u001b[1;32m    308\u001b[0m     \u001b[38;5;66;03m#    - private and gated repos if user is not authenticated\u001b[39;00m\n\u001b[1;32m    309\u001b[0m     \u001b[38;5;66;03m#    - missing repos\u001b[39;00m\n\u001b[1;32m    310\u001b[0m     \u001b[38;5;66;03m# => for now, we process them as `RepoNotFound` anyway.\u001b[39;00m\n\u001b[1;32m    311\u001b[0m     \u001b[38;5;66;03m# See https://gist.github.com/Wauplin/46c27ad266b15998ce56a6603796f0b9\u001b[39;00m\n\u001b[1;32m    312\u001b[0m     message \u001b[38;5;241m=\u001b[39m (\n\u001b[1;32m    313\u001b[0m         \u001b[38;5;124mf\u001b[39m\u001b[38;5;124m\"\u001b[39m\u001b[38;5;132;01m{\u001b[39;00mresponse\u001b[38;5;241m.\u001b[39mstatus_code\u001b[38;5;132;01m}\u001b[39;00m\u001b[38;5;124m Client Error.\u001b[39m\u001b[38;5;124m\"\u001b[39m\n\u001b[1;32m    314\u001b[0m         \u001b[38;5;241m+\u001b[39m \u001b[38;5;124m\"\u001b[39m\u001b[38;5;130;01m\\n\u001b[39;00m\u001b[38;5;130;01m\\n\u001b[39;00m\u001b[38;5;124m\"\u001b[39m\n\u001b[0;32m   (...)\u001b[0m\n\u001b[1;32m    318\u001b[0m         \u001b[38;5;124m\"\u001b[39m\u001b[38;5;124m make sure you are authenticated.\u001b[39m\u001b[38;5;124m\"\u001b[39m\n\u001b[1;32m    319\u001b[0m     )\n\u001b[0;32m--> 320\u001b[0m     \u001b[38;5;28;01mraise\u001b[39;00m RepositoryNotFoundError(message, response) \u001b[38;5;28;01mfrom\u001b[39;00m \u001b[38;5;21;01me\u001b[39;00m\n\u001b[1;32m    322\u001b[0m \u001b[38;5;28;01melif\u001b[39;00m response\u001b[38;5;241m.\u001b[39mstatus_code \u001b[38;5;241m==\u001b[39m \u001b[38;5;241m400\u001b[39m:\n\u001b[1;32m    323\u001b[0m     message \u001b[38;5;241m=\u001b[39m (\n\u001b[1;32m    324\u001b[0m         \u001b[38;5;124mf\u001b[39m\u001b[38;5;124m\"\u001b[39m\u001b[38;5;130;01m\\n\u001b[39;00m\u001b[38;5;130;01m\\n\u001b[39;00m\u001b[38;5;124mBad request for \u001b[39m\u001b[38;5;132;01m{\u001b[39;00mendpoint_name\u001b[38;5;132;01m}\u001b[39;00m\u001b[38;5;124m endpoint:\u001b[39m\u001b[38;5;124m\"\u001b[39m \u001b[38;5;28;01mif\u001b[39;00m endpoint_name \u001b[38;5;129;01mis\u001b[39;00m \u001b[38;5;129;01mnot\u001b[39;00m \u001b[38;5;28;01mNone\u001b[39;00m \u001b[38;5;28;01melse\u001b[39;00m \u001b[38;5;124m\"\u001b[39m\u001b[38;5;130;01m\\n\u001b[39;00m\u001b[38;5;130;01m\\n\u001b[39;00m\u001b[38;5;124mBad request:\u001b[39m\u001b[38;5;124m\"\u001b[39m\n\u001b[1;32m    325\u001b[0m     )\n",
      "\u001b[0;31mRepositoryNotFoundError\u001b[0m: 401 Client Error. (Request ID: Root=1-655b823e-68d7977e0e2ee0f10bbd4e66;8699087c-7880-422d-a882-d8451bab08d6)\n\nRepository Not Found for url: https://huggingface.co/api/models/models/llama-2-7b-chat.ggmlv3.q4_0.bin/revision/main.\nPlease make sure you specified the correct `repo_id` and `repo_type`.\nIf you are trying to access a private or gated repo, make sure you are authenticated.\nInvalid username or password."
     ]
    }
   ],
   "source": [
    "llm = CTransformers(model=\"models/llama-2-7b-chat.ggmlv3.q4_0.bin\",\n",
    "                    model_type=\"llama\",\n",
    "                    max_new_tokens=512,\n",
    "                    temperature=0.1)"
   ]
  },
  {
   "cell_type": "code",
   "execution_count": 9,
   "id": "7235f64a-2b3b-439e-b120-fa062efd40ac",
   "metadata": {},
   "outputs": [
    {
     "data": {
      "application/vnd.jupyter.widget-view+json": {
       "model_id": "f874aacd7929433c948aeba074782a51",
       "version_major": 2,
       "version_minor": 0
      },
      "text/plain": [
       "Fetching 1 files:   0%|          | 0/1 [00:00<?, ?it/s]"
      ]
     },
     "metadata": {},
     "output_type": "display_data"
    },
    {
     "data": {
      "application/vnd.jupyter.widget-view+json": {
       "model_id": "42cda9c09a424e28bdfaedfe3ad884d4",
       "version_major": 2,
       "version_minor": 0
      },
      "text/plain": [
       "Fetching 1 files:   0%|          | 0/1 [00:00<?, ?it/s]"
      ]
     },
     "metadata": {},
     "output_type": "display_data"
    },
    {
     "name": "stderr",
     "output_type": "stream",
     "text": [
      "huggingface/tokenizers: The current process just got forked, after parallelism has already been used. Disabling parallelism to avoid deadlocks...\n",
      "To disable this warning, you can either:\n",
      "\t- Avoid using `tokenizers` before the fork if possible\n",
      "\t- Explicitly set the environment variable TOKENIZERS_PARALLELISM=(true | false)\n",
      "huggingface/tokenizers: The current process just got forked, after parallelism has already been used. Disabling parallelism to avoid deadlocks...\n",
      "To disable this warning, you can either:\n",
      "\t- Avoid using `tokenizers` before the fork if possible\n",
      "\t- Explicitly set the environment variable TOKENIZERS_PARALLELISM=(true | false)\n"
     ]
    }
   ],
   "source": [
    "llm = CTransformers(model=\"TheBloke/Llama-2-13B-Ensemble-v5-GGUF\",\n",
    "                    model_file=\"llama-2-13b-ensemble-v5.Q5_K_M.gguf\",\n",
    "                    model_type=\"llama\",\n",
    "                    max_new_tokens=512,\n",
    "                    temperature=0.1)"
   ]
  },
  {
   "cell_type": "code",
   "execution_count": 10,
   "id": "63822ce9-06f2-4a57-9a4a-f2ce5d55afb6",
   "metadata": {},
   "outputs": [],
   "source": [
    "qa = ConversationalRetrievalChain.from_llm(llm, retriever=docsearch.as_retriever())"
   ]
  },
  {
   "cell_type": "code",
   "execution_count": null,
   "id": "be38cc4b-c5ff-4868-b2cc-e78c5b021b77",
   "metadata": {},
   "outputs": [
    {
     "name": "stdin",
     "output_type": "stream",
     "text": [
      "Input Prompt:  What is the value of  GDP per capita of Finland provided in the data?\n"
     ]
    },
    {
     "name": "stdout",
     "output_type": "stream",
     "text": [
      "Response:   The value of GDP per capita of Finland provided in the data is 1.340.\n",
      "\n"
     ]
    },
    {
     "name": "stdin",
     "output_type": "stream",
     "text": [
      "Input Prompt:  Who is Kapil Dev\n"
     ]
    },
    {
     "name": "stderr",
     "output_type": "stream",
     "text": [
      "Number of tokens (513) exceeded maximum context length (512).\n",
      "Number of tokens (514) exceeded maximum context length (512).\n",
      "Number of tokens (515) exceeded maximum context length (512).\n",
      "Number of tokens (516) exceeded maximum context length (512).\n",
      "Number of tokens (517) exceeded maximum context length (512).\n",
      "Number of tokens (518) exceeded maximum context length (512).\n",
      "Number of tokens (519) exceeded maximum context length (512).\n",
      "Number of tokens (520) exceeded maximum context length (512).\n",
      "Number of tokens (521) exceeded maximum context length (512).\n",
      "Number of tokens (522) exceeded maximum context length (512).\n",
      "Number of tokens (523) exceeded maximum context length (512).\n",
      "Number of tokens (524) exceeded maximum context length (512).\n",
      "Number of tokens (525) exceeded maximum context length (512).\n",
      "Number of tokens (526) exceeded maximum context length (512).\n",
      "Number of tokens (527) exceeded maximum context length (512).\n",
      "Number of tokens (528) exceeded maximum context length (512).\n",
      "Number of tokens (529) exceeded maximum context length (512).\n",
      "Number of tokens (530) exceeded maximum context length (512).\n",
      "Number of tokens (531) exceeded maximum context length (512).\n",
      "Number of tokens (532) exceeded maximum context length (512).\n",
      "Number of tokens (533) exceeded maximum context length (512).\n",
      "Number of tokens (534) exceeded maximum context length (512).\n",
      "Number of tokens (535) exceeded maximum context length (512).\n",
      "Number of tokens (536) exceeded maximum context length (512).\n",
      "Number of tokens (537) exceeded maximum context length (512).\n",
      "Number of tokens (538) exceeded maximum context length (512).\n",
      "Number of tokens (539) exceeded maximum context length (512).\n",
      "Number of tokens (540) exceeded maximum context length (512).\n",
      "Number of tokens (541) exceeded maximum context length (512).\n",
      "Number of tokens (542) exceeded maximum context length (512).\n",
      "Number of tokens (543) exceeded maximum context length (512).\n",
      "Number of tokens (544) exceeded maximum context length (512).\n",
      "Number of tokens (545) exceeded maximum context length (512).\n",
      "Number of tokens (546) exceeded maximum context length (512).\n",
      "Number of tokens (547) exceeded maximum context length (512).\n",
      "Number of tokens (548) exceeded maximum context length (512).\n",
      "Number of tokens (549) exceeded maximum context length (512).\n",
      "Number of tokens (550) exceeded maximum context length (512).\n",
      "Number of tokens (551) exceeded maximum context length (512).\n",
      "Number of tokens (552) exceeded maximum context length (512).\n",
      "Number of tokens (553) exceeded maximum context length (512).\n",
      "Number of tokens (554) exceeded maximum context length (512).\n",
      "Number of tokens (555) exceeded maximum context length (512).\n",
      "Number of tokens (556) exceeded maximum context length (512).\n",
      "Number of tokens (557) exceeded maximum context length (512).\n",
      "Number of tokens (558) exceeded maximum context length (512).\n",
      "Number of tokens (559) exceeded maximum context length (512).\n",
      "Number of tokens (560) exceeded maximum context length (512).\n",
      "Number of tokens (561) exceeded maximum context length (512).\n",
      "Number of tokens (562) exceeded maximum context length (512).\n",
      "Number of tokens (563) exceeded maximum context length (512).\n",
      "Number of tokens (564) exceeded maximum context length (512).\n",
      "Number of tokens (565) exceeded maximum context length (512).\n",
      "Number of tokens (566) exceeded maximum context length (512).\n",
      "Number of tokens (567) exceeded maximum context length (512).\n",
      "Number of tokens (568) exceeded maximum context length (512).\n",
      "Number of tokens (569) exceeded maximum context length (512).\n",
      "Number of tokens (570) exceeded maximum context length (512).\n",
      "Number of tokens (571) exceeded maximum context length (512).\n",
      "Number of tokens (572) exceeded maximum context length (512).\n",
      "Number of tokens (573) exceeded maximum context length (512).\n",
      "Number of tokens (574) exceeded maximum context length (512).\n",
      "Number of tokens (575) exceeded maximum context length (512).\n",
      "Number of tokens (576) exceeded maximum context length (512).\n",
      "Number of tokens (577) exceeded maximum context length (512).\n",
      "Number of tokens (578) exceeded maximum context length (512).\n",
      "Number of tokens (579) exceeded maximum context length (512).\n",
      "Number of tokens (580) exceeded maximum context length (512).\n",
      "Number of tokens (581) exceeded maximum context length (512).\n",
      "Number of tokens (582) exceeded maximum context length (512).\n",
      "Number of tokens (583) exceeded maximum context length (512).\n",
      "Number of tokens (584) exceeded maximum context length (512).\n",
      "Number of tokens (585) exceeded maximum context length (512).\n",
      "Number of tokens (586) exceeded maximum context length (512).\n",
      "Number of tokens (587) exceeded maximum context length (512).\n",
      "Number of tokens (588) exceeded maximum context length (512).\n",
      "Number of tokens (589) exceeded maximum context length (512).\n",
      "Number of tokens (590) exceeded maximum context length (512).\n",
      "Number of tokens (591) exceeded maximum context length (512).\n",
      "Number of tokens (592) exceeded maximum context length (512).\n",
      "Number of tokens (593) exceeded maximum context length (512).\n",
      "Number of tokens (594) exceeded maximum context length (512).\n",
      "Number of tokens (595) exceeded maximum context length (512).\n",
      "Number of tokens (596) exceeded maximum context length (512).\n",
      "Number of tokens (597) exceeded maximum context length (512).\n",
      "Number of tokens (598) exceeded maximum context length (512).\n",
      "Number of tokens (599) exceeded maximum context length (512).\n",
      "Number of tokens (600) exceeded maximum context length (512).\n",
      "Number of tokens (601) exceeded maximum context length (512).\n",
      "Number of tokens (602) exceeded maximum context length (512).\n",
      "Number of tokens (603) exceeded maximum context length (512).\n",
      "Number of tokens (604) exceeded maximum context length (512).\n",
      "Number of tokens (605) exceeded maximum context length (512).\n",
      "Number of tokens (606) exceeded maximum context length (512).\n",
      "Number of tokens (607) exceeded maximum context length (512).\n",
      "Number of tokens (608) exceeded maximum context length (512).\n",
      "Number of tokens (609) exceeded maximum context length (512).\n",
      "Number of tokens (610) exceeded maximum context length (512).\n",
      "Number of tokens (611) exceeded maximum context length (512).\n",
      "Number of tokens (612) exceeded maximum context length (512).\n",
      "Number of tokens (613) exceeded maximum context length (512).\n",
      "Number of tokens (614) exceeded maximum context length (512).\n",
      "Number of tokens (615) exceeded maximum context length (512).\n",
      "Number of tokens (616) exceeded maximum context length (512).\n",
      "Number of tokens (617) exceeded maximum context length (512).\n",
      "Number of tokens (618) exceeded maximum context length (512).\n",
      "Number of tokens (619) exceeded maximum context length (512).\n",
      "Number of tokens (620) exceeded maximum context length (512).\n",
      "Number of tokens (621) exceeded maximum context length (512).\n",
      "Number of tokens (622) exceeded maximum context length (512).\n",
      "Number of tokens (623) exceeded maximum context length (512).\n",
      "Number of tokens (624) exceeded maximum context length (512).\n",
      "Number of tokens (625) exceeded maximum context length (512).\n",
      "Number of tokens (626) exceeded maximum context length (512).\n",
      "Number of tokens (627) exceeded maximum context length (512).\n",
      "Number of tokens (628) exceeded maximum context length (512).\n",
      "Number of tokens (629) exceeded maximum context length (512).\n",
      "Number of tokens (630) exceeded maximum context length (512).\n",
      "Number of tokens (631) exceeded maximum context length (512).\n",
      "Number of tokens (632) exceeded maximum context length (512).\n",
      "Number of tokens (633) exceeded maximum context length (512).\n",
      "Number of tokens (634) exceeded maximum context length (512).\n",
      "Number of tokens (635) exceeded maximum context length (512).\n",
      "Number of tokens (636) exceeded maximum context length (512).\n",
      "Number of tokens (637) exceeded maximum context length (512).\n",
      "Number of tokens (638) exceeded maximum context length (512).\n",
      "Number of tokens (639) exceeded maximum context length (512).\n",
      "Number of tokens (640) exceeded maximum context length (512).\n",
      "Number of tokens (641) exceeded maximum context length (512).\n",
      "Number of tokens (642) exceeded maximum context length (512).\n",
      "Number of tokens (643) exceeded maximum context length (512).\n",
      "Number of tokens (644) exceeded maximum context length (512).\n",
      "Number of tokens (645) exceeded maximum context length (512).\n",
      "Number of tokens (646) exceeded maximum context length (512).\n",
      "Number of tokens (647) exceeded maximum context length (512).\n",
      "Number of tokens (648) exceeded maximum context length (512).\n",
      "Number of tokens (649) exceeded maximum context length (512).\n",
      "Number of tokens (650) exceeded maximum context length (512).\n",
      "Number of tokens (651) exceeded maximum context length (512).\n",
      "Number of tokens (652) exceeded maximum context length (512).\n",
      "Number of tokens (653) exceeded maximum context length (512).\n",
      "Number of tokens (654) exceeded maximum context length (512).\n",
      "Number of tokens (655) exceeded maximum context length (512).\n",
      "Number of tokens (656) exceeded maximum context length (512).\n",
      "Number of tokens (657) exceeded maximum context length (512).\n",
      "Number of tokens (658) exceeded maximum context length (512).\n",
      "Number of tokens (659) exceeded maximum context length (512).\n",
      "Number of tokens (660) exceeded maximum context length (512).\n",
      "Number of tokens (661) exceeded maximum context length (512).\n",
      "Number of tokens (662) exceeded maximum context length (512).\n",
      "Number of tokens (663) exceeded maximum context length (512).\n",
      "Number of tokens (664) exceeded maximum context length (512).\n",
      "Number of tokens (665) exceeded maximum context length (512).\n",
      "Number of tokens (666) exceeded maximum context length (512).\n",
      "Number of tokens (667) exceeded maximum context length (512).\n",
      "Number of tokens (668) exceeded maximum context length (512).\n",
      "Number of tokens (669) exceeded maximum context length (512).\n",
      "Number of tokens (670) exceeded maximum context length (512).\n",
      "Number of tokens (671) exceeded maximum context length (512).\n",
      "Number of tokens (672) exceeded maximum context length (512).\n",
      "Number of tokens (673) exceeded maximum context length (512).\n",
      "Number of tokens (674) exceeded maximum context length (512).\n",
      "Number of tokens (675) exceeded maximum context length (512).\n",
      "Number of tokens (676) exceeded maximum context length (512).\n",
      "Number of tokens (677) exceeded maximum context length (512).\n",
      "Number of tokens (678) exceeded maximum context length (512).\n",
      "Number of tokens (679) exceeded maximum context length (512).\n",
      "Number of tokens (680) exceeded maximum context length (512).\n",
      "Number of tokens (681) exceeded maximum context length (512).\n",
      "Number of tokens (682) exceeded maximum context length (512).\n",
      "Number of tokens (683) exceeded maximum context length (512).\n",
      "Number of tokens (684) exceeded maximum context length (512).\n",
      "Number of tokens (685) exceeded maximum context length (512).\n",
      "Number of tokens (686) exceeded maximum context length (512).\n",
      "Number of tokens (687) exceeded maximum context length (512).\n",
      "Number of tokens (688) exceeded maximum context length (512).\n",
      "Number of tokens (689) exceeded maximum context length (512).\n",
      "Number of tokens (690) exceeded maximum context length (512).\n",
      "Number of tokens (691) exceeded maximum context length (512).\n",
      "Number of tokens (692) exceeded maximum context length (512).\n",
      "Number of tokens (693) exceeded maximum context length (512).\n",
      "Number of tokens (694) exceeded maximum context length (512).\n",
      "Number of tokens (695) exceeded maximum context length (512).\n",
      "Number of tokens (696) exceeded maximum context length (512).\n",
      "Number of tokens (697) exceeded maximum context length (512).\n",
      "Number of tokens (698) exceeded maximum context length (512).\n",
      "Number of tokens (699) exceeded maximum context length (512).\n",
      "Number of tokens (700) exceeded maximum context length (512).\n",
      "Number of tokens (701) exceeded maximum context length (512).\n",
      "Number of tokens (702) exceeded maximum context length (512).\n",
      "Number of tokens (703) exceeded maximum context length (512).\n",
      "Number of tokens (704) exceeded maximum context length (512).\n",
      "Number of tokens (705) exceeded maximum context length (512).\n",
      "Number of tokens (706) exceeded maximum context length (512).\n",
      "Number of tokens (707) exceeded maximum context length (512).\n",
      "Number of tokens (708) exceeded maximum context length (512).\n",
      "Number of tokens (709) exceeded maximum context length (512).\n",
      "Number of tokens (710) exceeded maximum context length (512).\n",
      "Number of tokens (711) exceeded maximum context length (512).\n",
      "Number of tokens (712) exceeded maximum context length (512).\n",
      "Number of tokens (713) exceeded maximum context length (512).\n",
      "Number of tokens (714) exceeded maximum context length (512).\n",
      "Number of tokens (715) exceeded maximum context length (512).\n",
      "Number of tokens (716) exceeded maximum context length (512).\n",
      "Number of tokens (717) exceeded maximum context length (512).\n",
      "Number of tokens (718) exceeded maximum context length (512).\n",
      "Number of tokens (719) exceeded maximum context length (512).\n",
      "Number of tokens (720) exceeded maximum context length (512).\n",
      "Number of tokens (721) exceeded maximum context length (512).\n",
      "Number of tokens (722) exceeded maximum context length (512).\n",
      "Number of tokens (723) exceeded maximum context length (512).\n"
     ]
    },
    {
     "name": "stdout",
     "output_type": "stream",
     "text": [
      "Response:   Kapil Dev is a former Indian cricketer and a member of the Indian Cricket Hall of Fame. He was an all-rounder, playing as a right-arm fast-medium bowler and lower-order batsmanip middle order batsman in the-middle order right batman batman batman batting order batsidemiddlevehitting bats wicket batsmanaging batsman batman in the-middle order right-middle order right-middle order right order right order right order right order right order right order right order right order right order right order right order right order right-order bating middle order right-middle order right-middle order right-middle order right-middle order right-middle order right-middle order right-middle order right-middle order batsman batting order bats middle order bats middle order batsidemiddlevehitting bats right bat in the-order bats order right order right order right order bats right order bats right order bats right order right order right order right order right order right order right order bats middle order batsman batting order bats middle order bats middle order bats middle order bats middle\n"
     ]
    }
   ],
   "source": [
    "while True:\n",
    "    chat_history = []\n",
    "    #query = \"What is the value of  GDP per capita of Finland provided in the data?\"\n",
    "    query = input(f\"Input Prompt: \")\n",
    "    if query == 'exit':\n",
    "        print('Exiting')\n",
    "        sys.exit()\n",
    "    if query == '':\n",
    "        continue\n",
    "    result = qa({\"question\":query, \"chat_history\":chat_history})\n",
    "    print(\"Response: \", result['answer'])"
   ]
  },
  {
   "cell_type": "code",
   "execution_count": null,
   "id": "2c2fac73-5d53-40cb-86dc-8df1e26c1704",
   "metadata": {},
   "outputs": [],
   "source": []
  }
 ],
 "metadata": {
  "kernelspec": {
   "display_name": "base",
   "language": "python",
   "name": "base"
  },
  "language_info": {
   "codemirror_mode": {
    "name": "ipython",
    "version": 3
   },
   "file_extension": ".py",
   "mimetype": "text/x-python",
   "name": "python",
   "nbconvert_exporter": "python",
   "pygments_lexer": "ipython3",
   "version": "3.9.16"
  }
 },
 "nbformat": 4,
 "nbformat_minor": 5
}
